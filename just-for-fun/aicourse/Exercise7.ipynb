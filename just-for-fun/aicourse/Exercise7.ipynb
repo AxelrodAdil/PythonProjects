{
 "cells": [
  {
   "cell_type": "code",
   "execution_count": 1,
   "metadata": {
    "collapsed": true,
    "pycharm": {
     "name": "#%%\n"
    }
   },
   "outputs": [
    {
     "name": "stdout",
     "output_type": "stream",
     "text": [
      "Hello\n",
      "World\n",
      "done\n",
      "X-DSPAM-Confidence:0.8475\n",
      "print_it\n",
      "X-DSPAM-Confidence:0.0525\n"
     ]
    }
   ],
   "source": [
    "import sys\n",
    "\n",
    "file_input = open('example', 'r')\n",
    "print(file_input.read())"
   ]
  },
  {
   "cell_type": "code",
   "execution_count": 3,
   "outputs": [
    {
     "name": "stdout",
     "output_type": "stream",
     "text": [
      "0.44975000000000004\n",
      "0.44975000000000004\n"
     ]
    }
   ],
   "source": [
    "import statistics\n",
    "import numpy\n",
    "\n",
    "file_input = open('example', 'r')\n",
    "my_list = []\n",
    "for i in file_input:\n",
    "    if i.startswith('X-DSPAM-Confidence'):\n",
    "        my_list.append((i.partition(\":\")[2])[:-1])\n",
    "my_list = list(map(float, my_list))\n",
    "print(statistics.mean(my_list))\n",
    "print(numpy.mean(my_list))"
   ],
   "metadata": {
    "collapsed": false,
    "pycharm": {
     "name": "#%%\n"
    }
   }
  },
  {
   "cell_type": "code",
   "execution_count": 4,
   "outputs": [
    {
     "name": "stdout",
     "output_type": "stream",
     "text": [
      "6\n"
     ]
    }
   ],
   "source": [
    "import sys\n",
    "\n",
    "def print_egg_message():\n",
    "    print('NA NA BOO BOO TO YOU - You have been punk\\'d!')\n",
    "\n",
    "filename_input = str(input())\n",
    "try:\n",
    "    if filename_input.upper() == 'NA NA BOO BOO':\n",
    "        print_egg_message()\n",
    "    else:\n",
    "        file_input = open(filename_input)\n",
    "        count_line = 0\n",
    "        for i in file_input:\n",
    "            count_line += 1\n",
    "        print(count_line)\n",
    "except Exception as e:\n",
    "    print('File cannot be opened: ',file_input)\n",
    "    sys.exit(e)"
   ],
   "metadata": {
    "collapsed": false,
    "pycharm": {
     "name": "#%%\n"
    }
   }
  },
  {
   "cell_type": "code",
   "execution_count": null,
   "outputs": [],
   "source": [],
   "metadata": {
    "collapsed": false,
    "pycharm": {
     "name": "#%%\n"
    }
   }
  }
 ],
 "metadata": {
  "kernelspec": {
   "display_name": "Python 3",
   "language": "python",
   "name": "python3"
  },
  "language_info": {
   "codemirror_mode": {
    "name": "ipython",
    "version": 2
   },
   "file_extension": ".py",
   "mimetype": "text/x-python",
   "name": "python",
   "nbconvert_exporter": "python",
   "pygments_lexer": "ipython2",
   "version": "2.7.6"
  }
 },
 "nbformat": 4,
 "nbformat_minor": 0
}