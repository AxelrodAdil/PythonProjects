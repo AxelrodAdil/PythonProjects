{
 "cells": [
  {
   "cell_type": "code",
   "execution_count": 2,
   "outputs": [
    {
     "name": "stdout",
     "output_type": "stream",
     "text": [
      "['__add__', '__class__', '__contains__', '__delattr__', '__dir__', '__doc__', '__eq__', '__format__', '__ge__', '__getattribute__', '__getitem__', '__getnewargs__', '__gt__', '__hash__', '__init__', '__init_subclass__', '__iter__', '__le__', '__len__', '__lt__', '__mod__', '__mul__', '__ne__', '__new__', '__reduce__', '__reduce_ex__', '__repr__', '__rmod__', '__rmul__', '__setattr__', '__sizeof__', '__str__', '__subclasshook__', 'capitalize', 'casefold', 'center', 'count', 'encode', 'endswith', 'expandtabs', 'find', 'format', 'format_map', 'index', 'isalnum', 'isalpha', 'isascii', 'isdecimal', 'isdigit', 'isidentifier', 'islower', 'isnumeric', 'isprintable', 'isspace', 'istitle', 'isupper', 'join', 'ljust', 'lower', 'lstrip', 'maketrans', 'partition', 'replace', 'rfind', 'rindex', 'rjust', 'rpartition', 'rsplit', 'rstrip', 'split', 'splitlines', 'startswith', 'strip', 'swapcase', 'title', 'translate', 'upper', 'zfill']\n",
      "['__add__', '__class__', '__contains__', '__delattr__', '__delitem__', '__dir__', '__doc__', '__eq__', '__format__', '__ge__', '__getattribute__', '__getitem__', '__gt__', '__hash__', '__iadd__', '__imul__', '__init__', '__init_subclass__', '__iter__', '__le__', '__len__', '__lt__', '__mul__', '__ne__', '__new__', '__reduce__', '__reduce_ex__', '__repr__', '__reversed__', '__rmul__', '__setattr__', '__setitem__', '__sizeof__', '__str__', '__subclasshook__', 'append', 'clear', 'copy', 'count', 'extend', 'index', 'insert', 'pop', 'remove', 'reverse', 'sort']\n"
     ]
    }
   ],
   "source": [
    "input_string = 's'\n",
    "input_list = []\n",
    "print(dir(input_string))\n",
    "print(dir(input_list))"
   ],
   "metadata": {
    "collapsed": false
   }
  },
  {
   "cell_type": "code",
   "execution_count": 16,
   "outputs": [
    {
     "name": "stdout",
     "output_type": "stream",
     "text": [
      "['spam', 2.0, 5, [10, 20]]\n",
      "10\n",
      "False\n",
      "spam\n",
      "2.0\n",
      "5\n",
      "[10, 20]\n",
      "----------------------\n",
      "spam\n",
      "2.0\n",
      "5\n",
      "[10, 20]\n"
     ]
    }
   ],
   "source": [
    "my_list = ['spam', 2.0, 5, [10, 20]]\n",
    "print(my_list)\n",
    "print(my_list[3][0])\n",
    "print(10 in my_list)\n",
    "\n",
    "for i in range(len(my_list)):\n",
    "    print(my_list[i])\n",
    "print(\"----------------------\")\n",
    "for i in my_list:\n",
    "    print(i)"
   ],
   "metadata": {
    "collapsed": false
   }
  },
  {
   "cell_type": "code",
   "execution_count": 54,
   "outputs": [
    {
     "name": "stdout",
     "output_type": "stream",
     "text": [
      "[5, 5, 5, 5, 2, 2]\n",
      "[5, 5, 5, 5]\n",
      "[5]\n",
      "[5]\n",
      "[5, 5, 'hello', 'hi', 4]\n",
      "[5, 5, 'hello', 'hi', 4, 2, 2]\n",
      "-----------------------\n",
      "[2, 2, -25]\n",
      "-----------------------\n",
      "5\n",
      "[5, 'hello', 'hi', 4, 2, 2]\n",
      "[5, 'hello', 4, 2, 2]\n",
      "[5, 'hello', 4, 2]\n"
     ]
    }
   ],
   "source": [
    "my_list_1 = [5]*4\n",
    "my_list_2 = [2]*2\n",
    "print(my_list_1 + my_list_2)\n",
    "print(my_list_1[:])\n",
    "print(my_list_1[3:])\n",
    "print(my_list_1[2:3])\n",
    "my_list_1[2:4] = ['hello', \"hi\", 4]\n",
    "print(my_list_1)\n",
    "my_list_1.extend(my_list_2)\n",
    "print(my_list_1)\n",
    "print(\"-----------------------\")\n",
    "my_list_2.append(-25)\n",
    "my_list_2.sort(reverse=True)\n",
    "print(my_list_2)\n",
    "print(\"-----------------------\")\n",
    "my_x_element = my_list_1.pop(0)\n",
    "print(my_x_element)\n",
    "print(my_list_1)\n",
    "del my_list_1[2]\n",
    "print(my_list_1)\n",
    "my_list_1.remove(2)\n",
    "print(my_list_1)"
   ],
   "metadata": {
    "collapsed": false
   }
  },
  {
   "cell_type": "code",
   "execution_count": 47,
   "outputs": [
    {
     "name": "stdout",
     "output_type": "stream",
     "text": [
      "['s', 'p', 'a', 'm']\n",
      "['a', 'm', 'p', 's']\n",
      "a - m - p - s\n",
      "True\n"
     ]
    }
   ],
   "source": [
    "s = 'spam'\n",
    "list_str = list(s)\n",
    "print(list_str)\n",
    "list_str.sort()\n",
    "print(list_str)\n",
    "print(' - '.join(list_str))\n",
    "\n",
    "print('spam' == s)"
   ],
   "metadata": {
    "collapsed": false
   }
  },
  {
   "cell_type": "code",
   "execution_count": 51,
   "outputs": [
    {
     "name": "stdout",
     "output_type": "stream",
     "text": [
      "['Arise', 'But', 'It', 'Juliet', 'Who', 'already', 'and', 'and', 'and', 'breaks', 'east', 'envious', 'fair', 'grie', 'is', 'is', 'is', 'kill', 'light', 'moon', 'pale', 'sick', 'soft', 'sun', 'sun', 'the', 'the', 'the', 'through', 'what', 'window', 'with', 'yonder']\n"
     ]
    }
   ],
   "source": [
    "def main():\n",
    "    input_file = open('romeo', 'r')\n",
    "    my_list_words = []\n",
    "    for i_line in input_file:\n",
    "        str_line = i_line[:-1]\n",
    "        my_list_words.extend(list(str_line.split(\" \")))\n",
    "    my_list_words.sort()\n",
    "    print(my_list_words)\n",
    "\n",
    "\n",
    "if __name__ == \"__main__\":\n",
    "    main()"
   ],
   "metadata": {
    "collapsed": false
   }
  },
  {
   "cell_type": "code",
   "execution_count": 53,
   "outputs": [
    {
     "name": "stdout",
     "output_type": "stream",
     "text": [
      "['stephen1.marquard@uct.ac.za', 'stephen2.marquard@uct.ac.za']\n"
     ]
    }
   ],
   "source": [
    "def main():\n",
    "    input_file = open('example', 'r')\n",
    "    my_list_input = []\n",
    "    for i_line in input_file:\n",
    "        if i_line.startswith('From'):\n",
    "            my_list_input.append(i_line.split(\" \")[1])\n",
    "    print(my_list_input)\n",
    "\n",
    "\n",
    "if __name__ == \"__main__\":\n",
    "    main()"
   ],
   "metadata": {
    "collapsed": false
   }
  }
 ],
 "metadata": {
  "kernelspec": {
   "display_name": "Python 3",
   "language": "python",
   "name": "python3"
  },
  "language_info": {
   "codemirror_mode": {
    "name": "ipython",
    "version": 2
   },
   "file_extension": ".py",
   "mimetype": "text/x-python",
   "name": "python",
   "nbconvert_exporter": "python",
   "pygments_lexer": "ipython2",
   "version": "2.7.6"
  }
 },
 "nbformat": 4,
 "nbformat_minor": 0
}
