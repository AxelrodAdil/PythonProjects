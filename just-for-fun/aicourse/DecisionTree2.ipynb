{
 "cells": [
  {
   "cell_type": "code",
   "execution_count": 960,
   "metadata": {
    "collapsed": true
   },
   "outputs": [],
   "source": [
    "import pandas as pd\n",
    "\n",
    "df = pd.read_csv('House_Price.csv', nrows=30)\n",
    "# df = pd.read_csv('House_Price.csv')"
   ]
  },
  {
   "cell_type": "code",
   "execution_count": 961,
   "outputs": [
    {
     "data": {
      "text/plain": "(30, 37)"
     },
     "execution_count": 961,
     "metadata": {},
     "output_type": "execute_result"
    }
   ],
   "source": [
    "df.shape  # кестенын олшемын корсетеды"
   ],
   "metadata": {
    "collapsed": false
   }
  },
  {
   "cell_type": "code",
   "execution_count": 962,
   "outputs": [
    {
     "name": "stdout",
     "output_type": "stream",
     "text": [
      "<class 'pandas.core.frame.DataFrame'>\n",
      "RangeIndex: 30 entries, 0 to 29\n",
      "Data columns (total 37 columns):\n",
      " #   Column         Non-Null Count  Dtype  \n",
      "---  ------         --------------  -----  \n",
      " 0   MSSubClass     30 non-null     int64  \n",
      " 1   LotFrontage    30 non-null     float64\n",
      " 2   LotArea        30 non-null     int64  \n",
      " 3   OverallQual    30 non-null     int64  \n",
      " 4   OverallCond    30 non-null     int64  \n",
      " 5   YearBuilt      30 non-null     int64  \n",
      " 6   YearRemodAdd   30 non-null     int64  \n",
      " 7   MasVnrArea     30 non-null     int64  \n",
      " 8   BsmtFinSF1     30 non-null     int64  \n",
      " 9   BsmtFinSF2     30 non-null     int64  \n",
      " 10  BsmtUnfSF      30 non-null     int64  \n",
      " 11  TotalBsmtSF    30 non-null     int64  \n",
      " 12  X1stFlrSF      30 non-null     int64  \n",
      " 13  X2ndFlrSF      30 non-null     int64  \n",
      " 14  LowQualFinSF   30 non-null     int64  \n",
      " 15  GrLivArea      30 non-null     int64  \n",
      " 16  BsmtFullBath   30 non-null     int64  \n",
      " 17  BsmtHalfBath   30 non-null     int64  \n",
      " 18  FullBath       30 non-null     int64  \n",
      " 19  HalfBath       30 non-null     int64  \n",
      " 20  BedroomAbvGr   30 non-null     int64  \n",
      " 21  KitchenAbvGr   30 non-null     int64  \n",
      " 22  TotRmsAbvGrd   30 non-null     int64  \n",
      " 23  Fireplaces     30 non-null     int64  \n",
      " 24  GarageYrBlt    30 non-null     int64  \n",
      " 25  GarageCars     30 non-null     int64  \n",
      " 26  GarageArea     30 non-null     int64  \n",
      " 27  WoodDeckSF     30 non-null     int64  \n",
      " 28  OpenPorchSF    30 non-null     int64  \n",
      " 29  EnclosedPorch  30 non-null     int64  \n",
      " 30  X3SsnPorch     30 non-null     int64  \n",
      " 31  ScreenPorch    30 non-null     int64  \n",
      " 32  PoolArea       30 non-null     int64  \n",
      " 33  MiscVal        30 non-null     int64  \n",
      " 34  MoSold         30 non-null     int64  \n",
      " 35  YrSold         30 non-null     int64  \n",
      " 36  HousePrice     30 non-null     int64  \n",
      "dtypes: float64(1), int64(36)\n",
      "memory usage: 8.8 KB\n"
     ]
    }
   ],
   "source": [
    "df.info() # кесте бойынша акпаратты корсетеды  object dep shygarady"
   ],
   "metadata": {
    "collapsed": false
   }
  },
  {
   "cell_type": "code",
   "execution_count": 963,
   "outputs": [
    {
     "data": {
      "text/plain": "MSSubClass       0\nLotFrontage      0\nLotArea          0\nOverallQual      0\nOverallCond      0\nYearBuilt        0\nYearRemodAdd     0\nMasVnrArea       0\nBsmtFinSF1       0\nBsmtFinSF2       0\nBsmtUnfSF        0\nTotalBsmtSF      0\nX1stFlrSF        0\nX2ndFlrSF        0\nLowQualFinSF     0\nGrLivArea        0\nBsmtFullBath     0\nBsmtHalfBath     0\nFullBath         0\nHalfBath         0\nBedroomAbvGr     0\nKitchenAbvGr     0\nTotRmsAbvGrd     0\nFireplaces       0\nGarageYrBlt      0\nGarageCars       0\nGarageArea       0\nWoodDeckSF       0\nOpenPorchSF      0\nEnclosedPorch    0\nX3SsnPorch       0\nScreenPorch      0\nPoolArea         0\nMiscVal          0\nMoSold           0\nYrSold           0\nHousePrice       0\ndtype: int64"
     },
     "execution_count": 963,
     "metadata": {},
     "output_type": "execute_result"
    }
   ],
   "source": [
    "df.isna().sum()"
   ],
   "metadata": {
    "collapsed": false
   }
  },
  {
   "cell_type": "code",
   "execution_count": 964,
   "outputs": [
    {
     "data": {
      "text/plain": "       MSSubClass  LotFrontage       LotArea  OverallQual  OverallCond  \\\ncount   30.000000    30.000000     30.000000    30.000000    30.000000   \nmean    45.000000    72.325667  10257.700000     6.300000     5.766667   \nstd     37.278079    16.465742   2956.543883     1.393334     1.040004   \nmin     20.000000    44.000000   4224.000000     4.000000     5.000000   \n25%     20.000000    60.000000   7731.500000     5.000000     5.000000   \n50%     25.000000    72.530000  10517.000000     6.500000     5.000000   \n75%     60.000000    83.605000  11812.500000     7.000000     6.000000   \nmax    190.000000   110.000000  16321.000000     9.000000     8.000000   \n\n         YearBuilt  YearRemodAdd  MasVnrArea   BsmtFinSF1  BsmtFinSF2  ...  \\\ncount    30.000000     30.000000   30.000000    30.000000   30.000000  ...   \nmean   1973.033333   1984.266667  120.633333   523.700000   39.533333  ...   \nstd      29.135218     21.307168  162.790427   440.363498  148.156193  ...   \nmin    1915.000000   1950.000000    0.000000     0.000000    0.000000  ...   \n25%    1957.250000   1965.500000    0.000000     0.000000    0.000000  ...   \n50%    1971.500000   1996.000000    0.000000   612.000000    0.000000  ...   \n75%    2002.750000   2002.750000  209.000000   848.250000    0.000000  ...   \nmax    2007.000000   2008.000000  640.000000  1369.000000  668.000000  ...   \n\n       WoodDeckSF  OpenPorchSF  EnclosedPorch  X3SsnPorch  ScreenPorch  \\\ncount   30.000000    30.000000       30.00000   30.000000    30.000000   \nmean   102.700000    63.566667       39.10000   10.666667     5.866667   \nstd    118.120088    72.061604       83.60389   58.423739    32.133057   \nmin      0.000000     0.000000        0.00000    0.000000     0.000000   \n25%      0.000000     0.000000        0.00000    0.000000     0.000000   \n50%     48.500000    38.500000        0.00000    0.000000     0.000000   \n75%    186.750000    99.000000        0.00000    0.000000     0.000000   \nmax    406.000000   258.000000      272.00000  320.000000   176.000000   \n\n       PoolArea    MiscVal     MoSold       YrSold  HousePrice  \ncount      30.0   30.00000  30.000000    30.000000   30.000000  \nmean        0.0   75.00000   6.566667  2007.866667    0.433333  \nstd         0.0  202.03704   3.081461     1.252125    0.504007  \nmin         0.0    0.00000   1.000000  2006.000000    0.000000  \n25%         0.0    0.00000   5.000000  2007.000000    0.000000  \n50%         0.0    0.00000   6.000000  2008.000000    0.000000  \n75%         0.0    0.00000   9.000000  2008.750000    1.000000  \nmax         0.0  700.00000  12.000000  2010.000000    1.000000  \n\n[8 rows x 37 columns]",
      "text/html": "<div>\n<style scoped>\n    .dataframe tbody tr th:only-of-type {\n        vertical-align: middle;\n    }\n\n    .dataframe tbody tr th {\n        vertical-align: top;\n    }\n\n    .dataframe thead th {\n        text-align: right;\n    }\n</style>\n<table border=\"1\" class=\"dataframe\">\n  <thead>\n    <tr style=\"text-align: right;\">\n      <th></th>\n      <th>MSSubClass</th>\n      <th>LotFrontage</th>\n      <th>LotArea</th>\n      <th>OverallQual</th>\n      <th>OverallCond</th>\n      <th>YearBuilt</th>\n      <th>YearRemodAdd</th>\n      <th>MasVnrArea</th>\n      <th>BsmtFinSF1</th>\n      <th>BsmtFinSF2</th>\n      <th>...</th>\n      <th>WoodDeckSF</th>\n      <th>OpenPorchSF</th>\n      <th>EnclosedPorch</th>\n      <th>X3SsnPorch</th>\n      <th>ScreenPorch</th>\n      <th>PoolArea</th>\n      <th>MiscVal</th>\n      <th>MoSold</th>\n      <th>YrSold</th>\n      <th>HousePrice</th>\n    </tr>\n  </thead>\n  <tbody>\n    <tr>\n      <th>count</th>\n      <td>30.000000</td>\n      <td>30.000000</td>\n      <td>30.000000</td>\n      <td>30.000000</td>\n      <td>30.000000</td>\n      <td>30.000000</td>\n      <td>30.000000</td>\n      <td>30.000000</td>\n      <td>30.000000</td>\n      <td>30.000000</td>\n      <td>...</td>\n      <td>30.000000</td>\n      <td>30.000000</td>\n      <td>30.00000</td>\n      <td>30.000000</td>\n      <td>30.000000</td>\n      <td>30.0</td>\n      <td>30.00000</td>\n      <td>30.000000</td>\n      <td>30.000000</td>\n      <td>30.000000</td>\n    </tr>\n    <tr>\n      <th>mean</th>\n      <td>45.000000</td>\n      <td>72.325667</td>\n      <td>10257.700000</td>\n      <td>6.300000</td>\n      <td>5.766667</td>\n      <td>1973.033333</td>\n      <td>1984.266667</td>\n      <td>120.633333</td>\n      <td>523.700000</td>\n      <td>39.533333</td>\n      <td>...</td>\n      <td>102.700000</td>\n      <td>63.566667</td>\n      <td>39.10000</td>\n      <td>10.666667</td>\n      <td>5.866667</td>\n      <td>0.0</td>\n      <td>75.00000</td>\n      <td>6.566667</td>\n      <td>2007.866667</td>\n      <td>0.433333</td>\n    </tr>\n    <tr>\n      <th>std</th>\n      <td>37.278079</td>\n      <td>16.465742</td>\n      <td>2956.543883</td>\n      <td>1.393334</td>\n      <td>1.040004</td>\n      <td>29.135218</td>\n      <td>21.307168</td>\n      <td>162.790427</td>\n      <td>440.363498</td>\n      <td>148.156193</td>\n      <td>...</td>\n      <td>118.120088</td>\n      <td>72.061604</td>\n      <td>83.60389</td>\n      <td>58.423739</td>\n      <td>32.133057</td>\n      <td>0.0</td>\n      <td>202.03704</td>\n      <td>3.081461</td>\n      <td>1.252125</td>\n      <td>0.504007</td>\n    </tr>\n    <tr>\n      <th>min</th>\n      <td>20.000000</td>\n      <td>44.000000</td>\n      <td>4224.000000</td>\n      <td>4.000000</td>\n      <td>5.000000</td>\n      <td>1915.000000</td>\n      <td>1950.000000</td>\n      <td>0.000000</td>\n      <td>0.000000</td>\n      <td>0.000000</td>\n      <td>...</td>\n      <td>0.000000</td>\n      <td>0.000000</td>\n      <td>0.00000</td>\n      <td>0.000000</td>\n      <td>0.000000</td>\n      <td>0.0</td>\n      <td>0.00000</td>\n      <td>1.000000</td>\n      <td>2006.000000</td>\n      <td>0.000000</td>\n    </tr>\n    <tr>\n      <th>25%</th>\n      <td>20.000000</td>\n      <td>60.000000</td>\n      <td>7731.500000</td>\n      <td>5.000000</td>\n      <td>5.000000</td>\n      <td>1957.250000</td>\n      <td>1965.500000</td>\n      <td>0.000000</td>\n      <td>0.000000</td>\n      <td>0.000000</td>\n      <td>...</td>\n      <td>0.000000</td>\n      <td>0.000000</td>\n      <td>0.00000</td>\n      <td>0.000000</td>\n      <td>0.000000</td>\n      <td>0.0</td>\n      <td>0.00000</td>\n      <td>5.000000</td>\n      <td>2007.000000</td>\n      <td>0.000000</td>\n    </tr>\n    <tr>\n      <th>50%</th>\n      <td>25.000000</td>\n      <td>72.530000</td>\n      <td>10517.000000</td>\n      <td>6.500000</td>\n      <td>5.000000</td>\n      <td>1971.500000</td>\n      <td>1996.000000</td>\n      <td>0.000000</td>\n      <td>612.000000</td>\n      <td>0.000000</td>\n      <td>...</td>\n      <td>48.500000</td>\n      <td>38.500000</td>\n      <td>0.00000</td>\n      <td>0.000000</td>\n      <td>0.000000</td>\n      <td>0.0</td>\n      <td>0.00000</td>\n      <td>6.000000</td>\n      <td>2008.000000</td>\n      <td>0.000000</td>\n    </tr>\n    <tr>\n      <th>75%</th>\n      <td>60.000000</td>\n      <td>83.605000</td>\n      <td>11812.500000</td>\n      <td>7.000000</td>\n      <td>6.000000</td>\n      <td>2002.750000</td>\n      <td>2002.750000</td>\n      <td>209.000000</td>\n      <td>848.250000</td>\n      <td>0.000000</td>\n      <td>...</td>\n      <td>186.750000</td>\n      <td>99.000000</td>\n      <td>0.00000</td>\n      <td>0.000000</td>\n      <td>0.000000</td>\n      <td>0.0</td>\n      <td>0.00000</td>\n      <td>9.000000</td>\n      <td>2008.750000</td>\n      <td>1.000000</td>\n    </tr>\n    <tr>\n      <th>max</th>\n      <td>190.000000</td>\n      <td>110.000000</td>\n      <td>16321.000000</td>\n      <td>9.000000</td>\n      <td>8.000000</td>\n      <td>2007.000000</td>\n      <td>2008.000000</td>\n      <td>640.000000</td>\n      <td>1369.000000</td>\n      <td>668.000000</td>\n      <td>...</td>\n      <td>406.000000</td>\n      <td>258.000000</td>\n      <td>272.00000</td>\n      <td>320.000000</td>\n      <td>176.000000</td>\n      <td>0.0</td>\n      <td>700.00000</td>\n      <td>12.000000</td>\n      <td>2010.000000</td>\n      <td>1.000000</td>\n    </tr>\n  </tbody>\n</table>\n<p>8 rows × 37 columns</p>\n</div>"
     },
     "execution_count": 964,
     "metadata": {},
     "output_type": "execute_result"
    }
   ],
   "source": [
    "df.describe()\n",
    "# mean == avg\n",
    "# std = орташа квадраттык ауыткуы  -  тубыр астындагы дисперсия - орташа маннен ауыткуынын астындагы маны\n",
    "# Квартилдеры немесе процентильдеры- 25%, 50%, 75%  (1 - 2 - 3ыншы квартилдер)\n",
    "\n",
    "# Онын манын есептеу ушын багандарды осу ретымен сурыптайды сосын оны тендей 4-ке боледы.\n",
    "# 25% - 365 жолда турган уй 1954 жылгы\n",
    "# 50% - 730 жолда турган уй 1973 жылгы\n",
    "# 75% - 1095 жолда турган уй 2000 жылгы"
   ],
   "metadata": {
    "collapsed": false
   }
  },
  {
   "cell_type": "code",
   "execution_count": 965,
   "outputs": [
    {
     "data": {
      "text/plain": "1915"
     },
     "execution_count": 965,
     "metadata": {},
     "output_type": "execute_result"
    }
   ],
   "source": [
    "# df.YearBuilt\n",
    "df.YearBuilt.min()"
   ],
   "metadata": {
    "collapsed": false
   }
  },
  {
   "cell_type": "code",
   "execution_count": 966,
   "outputs": [
    {
     "data": {
      "text/plain": "    MSSubClass  LotFrontage  LotArea  OverallQual  OverallCond  YearBuilt  \\\n0           60        65.00     8450            7            5       2003   \n1           20        80.00     9600            6            8       1976   \n2           60        68.00    11250            7            5       2001   \n3           70        60.00     9550            7            5       1915   \n4           60        84.00    14260            8            5       2000   \n5           50        85.00    14115            5            5       1993   \n6           20        75.00    10084            8            5       2004   \n7           60        89.59    10382            7            6       1973   \n8           50        51.00     6120            7            5       1931   \n9          190        50.00     7420            5            6       1939   \n10          20        70.00    11200            5            5       1965   \n11          60        85.00    11924            9            5       2005   \n12          20        76.14    12968            5            6       1962   \n13          20        91.00    10652            7            5       2006   \n14          20        82.42    10920            6            5       1960   \n15          45        51.00     6120            7            8       1929   \n16          20        73.56    11241            6            7       1970   \n17          90        72.00    10791            4            5       1967   \n18          20        66.00    13695            5            5       2004   \n19          20        70.00     7560            5            6       1958   \n20          60       101.00    14215            8            5       2005   \n21          45        57.00     7449            7            7       1930   \n22          20        75.00     9742            8            5       2002   \n23         120        44.00     4224            5            7       1976   \n24          20        73.06     8246            5            8       1968   \n25          20       110.00    14230            8            5       2007   \n26          20        60.00     7200            5            7       1951   \n27          20        98.00    11478            8            5       2007   \n28          20        47.00    16321            5            6       1957   \n29          30        60.00     6324            4            6       1927   \n\n    YearRemodAdd  MasVnrArea  BsmtFinSF1  BsmtFinSF2  ...  GarageArea  \\\n0           2003         196         706           0  ...         548   \n1           1976           0         978           0  ...         460   \n2           2002         162         486           0  ...         608   \n3           1970           0         216           0  ...         642   \n4           2000         350         655           0  ...         836   \n5           1995           0         732           0  ...         480   \n6           2005         186        1369           0  ...         636   \n7           1973         240         859          32  ...         484   \n8           1950           0           0           0  ...         468   \n9           1950           0         851           0  ...         205   \n10          1965           0         906           0  ...         384   \n11          2006         286         998           0  ...         736   \n12          1962           0         737           0  ...         352   \n13          2007         306           0           0  ...         840   \n14          1960         212         733           0  ...         352   \n15          2001           0           0           0  ...         576   \n16          1970         180         578           0  ...         480   \n17          1967           0           0           0  ...         516   \n18          2004           0         646           0  ...         576   \n19          1965           0         504           0  ...         294   \n20          2006         380           0           0  ...         853   \n21          1950           0           0           0  ...         280   \n22          2002         281           0           0  ...         534   \n23          1976           0         840           0  ...         572   \n24          2001           0         188         668  ...         270   \n25          2007         640           0           0  ...         890   \n26          2000           0         234         486  ...         576   \n27          2008         200        1218           0  ...         772   \n28          1997           0        1277           0  ...         319   \n29          1950           0           0           0  ...         240   \n\n    WoodDeckSF  OpenPorchSF  EnclosedPorch  X3SsnPorch  ScreenPorch  PoolArea  \\\n0            0           61              0           0            0         0   \n1          298            0              0           0            0         0   \n2            0           42              0           0            0         0   \n3            0           35            272           0            0         0   \n4          192           84              0           0            0         0   \n5           40           30              0         320            0         0   \n6          255           57              0           0            0         0   \n7          235          204            228           0            0         0   \n8           90            0            205           0            0         0   \n9            0            4              0           0            0         0   \n10           0            0              0           0            0         0   \n11         147           21              0           0            0         0   \n12         140            0              0           0          176         0   \n13         160           33              0           0            0         0   \n14           0          213            176           0            0         0   \n15          48          112              0           0            0         0   \n16           0            0              0           0            0         0   \n17           0            0              0           0            0         0   \n18           0          102              0           0            0         0   \n19           0            0              0           0            0         0   \n20         240          154              0           0            0         0   \n21           0            0            205           0            0         0   \n22         171          159              0           0            0         0   \n23         100          110              0           0            0         0   \n24         406           90              0           0            0         0   \n25           0           56              0           0            0         0   \n26         222           32              0           0            0         0   \n27           0           50              0           0            0         0   \n28         288          258              0           0            0         0   \n29          49            0             87           0            0         0   \n\n    MiscVal  MoSold  YrSold  \n0         0       2    2008  \n1         0       5    2007  \n2         0       9    2008  \n3         0       2    2006  \n4         0      12    2008  \n5       700      10    2009  \n6         0       8    2007  \n7       350      11    2009  \n8         0       4    2008  \n9         0       1    2008  \n10        0       2    2008  \n11        0       7    2006  \n12        0       9    2008  \n13        0       8    2007  \n14        0       5    2008  \n15        0       7    2007  \n16      700       3    2010  \n17      500      10    2006  \n18        0       6    2008  \n19        0       5    2009  \n20        0      11    2006  \n21        0       6    2007  \n22        0       9    2008  \n23        0       6    2007  \n24        0       5    2010  \n25        0       7    2009  \n26        0       5    2010  \n27        0       5    2010  \n28        0      12    2006  \n29        0       5    2008  \n\n[30 rows x 36 columns]",
      "text/html": "<div>\n<style scoped>\n    .dataframe tbody tr th:only-of-type {\n        vertical-align: middle;\n    }\n\n    .dataframe tbody tr th {\n        vertical-align: top;\n    }\n\n    .dataframe thead th {\n        text-align: right;\n    }\n</style>\n<table border=\"1\" class=\"dataframe\">\n  <thead>\n    <tr style=\"text-align: right;\">\n      <th></th>\n      <th>MSSubClass</th>\n      <th>LotFrontage</th>\n      <th>LotArea</th>\n      <th>OverallQual</th>\n      <th>OverallCond</th>\n      <th>YearBuilt</th>\n      <th>YearRemodAdd</th>\n      <th>MasVnrArea</th>\n      <th>BsmtFinSF1</th>\n      <th>BsmtFinSF2</th>\n      <th>...</th>\n      <th>GarageArea</th>\n      <th>WoodDeckSF</th>\n      <th>OpenPorchSF</th>\n      <th>EnclosedPorch</th>\n      <th>X3SsnPorch</th>\n      <th>ScreenPorch</th>\n      <th>PoolArea</th>\n      <th>MiscVal</th>\n      <th>MoSold</th>\n      <th>YrSold</th>\n    </tr>\n  </thead>\n  <tbody>\n    <tr>\n      <th>0</th>\n      <td>60</td>\n      <td>65.00</td>\n      <td>8450</td>\n      <td>7</td>\n      <td>5</td>\n      <td>2003</td>\n      <td>2003</td>\n      <td>196</td>\n      <td>706</td>\n      <td>0</td>\n      <td>...</td>\n      <td>548</td>\n      <td>0</td>\n      <td>61</td>\n      <td>0</td>\n      <td>0</td>\n      <td>0</td>\n      <td>0</td>\n      <td>0</td>\n      <td>2</td>\n      <td>2008</td>\n    </tr>\n    <tr>\n      <th>1</th>\n      <td>20</td>\n      <td>80.00</td>\n      <td>9600</td>\n      <td>6</td>\n      <td>8</td>\n      <td>1976</td>\n      <td>1976</td>\n      <td>0</td>\n      <td>978</td>\n      <td>0</td>\n      <td>...</td>\n      <td>460</td>\n      <td>298</td>\n      <td>0</td>\n      <td>0</td>\n      <td>0</td>\n      <td>0</td>\n      <td>0</td>\n      <td>0</td>\n      <td>5</td>\n      <td>2007</td>\n    </tr>\n    <tr>\n      <th>2</th>\n      <td>60</td>\n      <td>68.00</td>\n      <td>11250</td>\n      <td>7</td>\n      <td>5</td>\n      <td>2001</td>\n      <td>2002</td>\n      <td>162</td>\n      <td>486</td>\n      <td>0</td>\n      <td>...</td>\n      <td>608</td>\n      <td>0</td>\n      <td>42</td>\n      <td>0</td>\n      <td>0</td>\n      <td>0</td>\n      <td>0</td>\n      <td>0</td>\n      <td>9</td>\n      <td>2008</td>\n    </tr>\n    <tr>\n      <th>3</th>\n      <td>70</td>\n      <td>60.00</td>\n      <td>9550</td>\n      <td>7</td>\n      <td>5</td>\n      <td>1915</td>\n      <td>1970</td>\n      <td>0</td>\n      <td>216</td>\n      <td>0</td>\n      <td>...</td>\n      <td>642</td>\n      <td>0</td>\n      <td>35</td>\n      <td>272</td>\n      <td>0</td>\n      <td>0</td>\n      <td>0</td>\n      <td>0</td>\n      <td>2</td>\n      <td>2006</td>\n    </tr>\n    <tr>\n      <th>4</th>\n      <td>60</td>\n      <td>84.00</td>\n      <td>14260</td>\n      <td>8</td>\n      <td>5</td>\n      <td>2000</td>\n      <td>2000</td>\n      <td>350</td>\n      <td>655</td>\n      <td>0</td>\n      <td>...</td>\n      <td>836</td>\n      <td>192</td>\n      <td>84</td>\n      <td>0</td>\n      <td>0</td>\n      <td>0</td>\n      <td>0</td>\n      <td>0</td>\n      <td>12</td>\n      <td>2008</td>\n    </tr>\n    <tr>\n      <th>5</th>\n      <td>50</td>\n      <td>85.00</td>\n      <td>14115</td>\n      <td>5</td>\n      <td>5</td>\n      <td>1993</td>\n      <td>1995</td>\n      <td>0</td>\n      <td>732</td>\n      <td>0</td>\n      <td>...</td>\n      <td>480</td>\n      <td>40</td>\n      <td>30</td>\n      <td>0</td>\n      <td>320</td>\n      <td>0</td>\n      <td>0</td>\n      <td>700</td>\n      <td>10</td>\n      <td>2009</td>\n    </tr>\n    <tr>\n      <th>6</th>\n      <td>20</td>\n      <td>75.00</td>\n      <td>10084</td>\n      <td>8</td>\n      <td>5</td>\n      <td>2004</td>\n      <td>2005</td>\n      <td>186</td>\n      <td>1369</td>\n      <td>0</td>\n      <td>...</td>\n      <td>636</td>\n      <td>255</td>\n      <td>57</td>\n      <td>0</td>\n      <td>0</td>\n      <td>0</td>\n      <td>0</td>\n      <td>0</td>\n      <td>8</td>\n      <td>2007</td>\n    </tr>\n    <tr>\n      <th>7</th>\n      <td>60</td>\n      <td>89.59</td>\n      <td>10382</td>\n      <td>7</td>\n      <td>6</td>\n      <td>1973</td>\n      <td>1973</td>\n      <td>240</td>\n      <td>859</td>\n      <td>32</td>\n      <td>...</td>\n      <td>484</td>\n      <td>235</td>\n      <td>204</td>\n      <td>228</td>\n      <td>0</td>\n      <td>0</td>\n      <td>0</td>\n      <td>350</td>\n      <td>11</td>\n      <td>2009</td>\n    </tr>\n    <tr>\n      <th>8</th>\n      <td>50</td>\n      <td>51.00</td>\n      <td>6120</td>\n      <td>7</td>\n      <td>5</td>\n      <td>1931</td>\n      <td>1950</td>\n      <td>0</td>\n      <td>0</td>\n      <td>0</td>\n      <td>...</td>\n      <td>468</td>\n      <td>90</td>\n      <td>0</td>\n      <td>205</td>\n      <td>0</td>\n      <td>0</td>\n      <td>0</td>\n      <td>0</td>\n      <td>4</td>\n      <td>2008</td>\n    </tr>\n    <tr>\n      <th>9</th>\n      <td>190</td>\n      <td>50.00</td>\n      <td>7420</td>\n      <td>5</td>\n      <td>6</td>\n      <td>1939</td>\n      <td>1950</td>\n      <td>0</td>\n      <td>851</td>\n      <td>0</td>\n      <td>...</td>\n      <td>205</td>\n      <td>0</td>\n      <td>4</td>\n      <td>0</td>\n      <td>0</td>\n      <td>0</td>\n      <td>0</td>\n      <td>0</td>\n      <td>1</td>\n      <td>2008</td>\n    </tr>\n    <tr>\n      <th>10</th>\n      <td>20</td>\n      <td>70.00</td>\n      <td>11200</td>\n      <td>5</td>\n      <td>5</td>\n      <td>1965</td>\n      <td>1965</td>\n      <td>0</td>\n      <td>906</td>\n      <td>0</td>\n      <td>...</td>\n      <td>384</td>\n      <td>0</td>\n      <td>0</td>\n      <td>0</td>\n      <td>0</td>\n      <td>0</td>\n      <td>0</td>\n      <td>0</td>\n      <td>2</td>\n      <td>2008</td>\n    </tr>\n    <tr>\n      <th>11</th>\n      <td>60</td>\n      <td>85.00</td>\n      <td>11924</td>\n      <td>9</td>\n      <td>5</td>\n      <td>2005</td>\n      <td>2006</td>\n      <td>286</td>\n      <td>998</td>\n      <td>0</td>\n      <td>...</td>\n      <td>736</td>\n      <td>147</td>\n      <td>21</td>\n      <td>0</td>\n      <td>0</td>\n      <td>0</td>\n      <td>0</td>\n      <td>0</td>\n      <td>7</td>\n      <td>2006</td>\n    </tr>\n    <tr>\n      <th>12</th>\n      <td>20</td>\n      <td>76.14</td>\n      <td>12968</td>\n      <td>5</td>\n      <td>6</td>\n      <td>1962</td>\n      <td>1962</td>\n      <td>0</td>\n      <td>737</td>\n      <td>0</td>\n      <td>...</td>\n      <td>352</td>\n      <td>140</td>\n      <td>0</td>\n      <td>0</td>\n      <td>0</td>\n      <td>176</td>\n      <td>0</td>\n      <td>0</td>\n      <td>9</td>\n      <td>2008</td>\n    </tr>\n    <tr>\n      <th>13</th>\n      <td>20</td>\n      <td>91.00</td>\n      <td>10652</td>\n      <td>7</td>\n      <td>5</td>\n      <td>2006</td>\n      <td>2007</td>\n      <td>306</td>\n      <td>0</td>\n      <td>0</td>\n      <td>...</td>\n      <td>840</td>\n      <td>160</td>\n      <td>33</td>\n      <td>0</td>\n      <td>0</td>\n      <td>0</td>\n      <td>0</td>\n      <td>0</td>\n      <td>8</td>\n      <td>2007</td>\n    </tr>\n    <tr>\n      <th>14</th>\n      <td>20</td>\n      <td>82.42</td>\n      <td>10920</td>\n      <td>6</td>\n      <td>5</td>\n      <td>1960</td>\n      <td>1960</td>\n      <td>212</td>\n      <td>733</td>\n      <td>0</td>\n      <td>...</td>\n      <td>352</td>\n      <td>0</td>\n      <td>213</td>\n      <td>176</td>\n      <td>0</td>\n      <td>0</td>\n      <td>0</td>\n      <td>0</td>\n      <td>5</td>\n      <td>2008</td>\n    </tr>\n    <tr>\n      <th>15</th>\n      <td>45</td>\n      <td>51.00</td>\n      <td>6120</td>\n      <td>7</td>\n      <td>8</td>\n      <td>1929</td>\n      <td>2001</td>\n      <td>0</td>\n      <td>0</td>\n      <td>0</td>\n      <td>...</td>\n      <td>576</td>\n      <td>48</td>\n      <td>112</td>\n      <td>0</td>\n      <td>0</td>\n      <td>0</td>\n      <td>0</td>\n      <td>0</td>\n      <td>7</td>\n      <td>2007</td>\n    </tr>\n    <tr>\n      <th>16</th>\n      <td>20</td>\n      <td>73.56</td>\n      <td>11241</td>\n      <td>6</td>\n      <td>7</td>\n      <td>1970</td>\n      <td>1970</td>\n      <td>180</td>\n      <td>578</td>\n      <td>0</td>\n      <td>...</td>\n      <td>480</td>\n      <td>0</td>\n      <td>0</td>\n      <td>0</td>\n      <td>0</td>\n      <td>0</td>\n      <td>0</td>\n      <td>700</td>\n      <td>3</td>\n      <td>2010</td>\n    </tr>\n    <tr>\n      <th>17</th>\n      <td>90</td>\n      <td>72.00</td>\n      <td>10791</td>\n      <td>4</td>\n      <td>5</td>\n      <td>1967</td>\n      <td>1967</td>\n      <td>0</td>\n      <td>0</td>\n      <td>0</td>\n      <td>...</td>\n      <td>516</td>\n      <td>0</td>\n      <td>0</td>\n      <td>0</td>\n      <td>0</td>\n      <td>0</td>\n      <td>0</td>\n      <td>500</td>\n      <td>10</td>\n      <td>2006</td>\n    </tr>\n    <tr>\n      <th>18</th>\n      <td>20</td>\n      <td>66.00</td>\n      <td>13695</td>\n      <td>5</td>\n      <td>5</td>\n      <td>2004</td>\n      <td>2004</td>\n      <td>0</td>\n      <td>646</td>\n      <td>0</td>\n      <td>...</td>\n      <td>576</td>\n      <td>0</td>\n      <td>102</td>\n      <td>0</td>\n      <td>0</td>\n      <td>0</td>\n      <td>0</td>\n      <td>0</td>\n      <td>6</td>\n      <td>2008</td>\n    </tr>\n    <tr>\n      <th>19</th>\n      <td>20</td>\n      <td>70.00</td>\n      <td>7560</td>\n      <td>5</td>\n      <td>6</td>\n      <td>1958</td>\n      <td>1965</td>\n      <td>0</td>\n      <td>504</td>\n      <td>0</td>\n      <td>...</td>\n      <td>294</td>\n      <td>0</td>\n      <td>0</td>\n      <td>0</td>\n      <td>0</td>\n      <td>0</td>\n      <td>0</td>\n      <td>0</td>\n      <td>5</td>\n      <td>2009</td>\n    </tr>\n    <tr>\n      <th>20</th>\n      <td>60</td>\n      <td>101.00</td>\n      <td>14215</td>\n      <td>8</td>\n      <td>5</td>\n      <td>2005</td>\n      <td>2006</td>\n      <td>380</td>\n      <td>0</td>\n      <td>0</td>\n      <td>...</td>\n      <td>853</td>\n      <td>240</td>\n      <td>154</td>\n      <td>0</td>\n      <td>0</td>\n      <td>0</td>\n      <td>0</td>\n      <td>0</td>\n      <td>11</td>\n      <td>2006</td>\n    </tr>\n    <tr>\n      <th>21</th>\n      <td>45</td>\n      <td>57.00</td>\n      <td>7449</td>\n      <td>7</td>\n      <td>7</td>\n      <td>1930</td>\n      <td>1950</td>\n      <td>0</td>\n      <td>0</td>\n      <td>0</td>\n      <td>...</td>\n      <td>280</td>\n      <td>0</td>\n      <td>0</td>\n      <td>205</td>\n      <td>0</td>\n      <td>0</td>\n      <td>0</td>\n      <td>0</td>\n      <td>6</td>\n      <td>2007</td>\n    </tr>\n    <tr>\n      <th>22</th>\n      <td>20</td>\n      <td>75.00</td>\n      <td>9742</td>\n      <td>8</td>\n      <td>5</td>\n      <td>2002</td>\n      <td>2002</td>\n      <td>281</td>\n      <td>0</td>\n      <td>0</td>\n      <td>...</td>\n      <td>534</td>\n      <td>171</td>\n      <td>159</td>\n      <td>0</td>\n      <td>0</td>\n      <td>0</td>\n      <td>0</td>\n      <td>0</td>\n      <td>9</td>\n      <td>2008</td>\n    </tr>\n    <tr>\n      <th>23</th>\n      <td>120</td>\n      <td>44.00</td>\n      <td>4224</td>\n      <td>5</td>\n      <td>7</td>\n      <td>1976</td>\n      <td>1976</td>\n      <td>0</td>\n      <td>840</td>\n      <td>0</td>\n      <td>...</td>\n      <td>572</td>\n      <td>100</td>\n      <td>110</td>\n      <td>0</td>\n      <td>0</td>\n      <td>0</td>\n      <td>0</td>\n      <td>0</td>\n      <td>6</td>\n      <td>2007</td>\n    </tr>\n    <tr>\n      <th>24</th>\n      <td>20</td>\n      <td>73.06</td>\n      <td>8246</td>\n      <td>5</td>\n      <td>8</td>\n      <td>1968</td>\n      <td>2001</td>\n      <td>0</td>\n      <td>188</td>\n      <td>668</td>\n      <td>...</td>\n      <td>270</td>\n      <td>406</td>\n      <td>90</td>\n      <td>0</td>\n      <td>0</td>\n      <td>0</td>\n      <td>0</td>\n      <td>0</td>\n      <td>5</td>\n      <td>2010</td>\n    </tr>\n    <tr>\n      <th>25</th>\n      <td>20</td>\n      <td>110.00</td>\n      <td>14230</td>\n      <td>8</td>\n      <td>5</td>\n      <td>2007</td>\n      <td>2007</td>\n      <td>640</td>\n      <td>0</td>\n      <td>0</td>\n      <td>...</td>\n      <td>890</td>\n      <td>0</td>\n      <td>56</td>\n      <td>0</td>\n      <td>0</td>\n      <td>0</td>\n      <td>0</td>\n      <td>0</td>\n      <td>7</td>\n      <td>2009</td>\n    </tr>\n    <tr>\n      <th>26</th>\n      <td>20</td>\n      <td>60.00</td>\n      <td>7200</td>\n      <td>5</td>\n      <td>7</td>\n      <td>1951</td>\n      <td>2000</td>\n      <td>0</td>\n      <td>234</td>\n      <td>486</td>\n      <td>...</td>\n      <td>576</td>\n      <td>222</td>\n      <td>32</td>\n      <td>0</td>\n      <td>0</td>\n      <td>0</td>\n      <td>0</td>\n      <td>0</td>\n      <td>5</td>\n      <td>2010</td>\n    </tr>\n    <tr>\n      <th>27</th>\n      <td>20</td>\n      <td>98.00</td>\n      <td>11478</td>\n      <td>8</td>\n      <td>5</td>\n      <td>2007</td>\n      <td>2008</td>\n      <td>200</td>\n      <td>1218</td>\n      <td>0</td>\n      <td>...</td>\n      <td>772</td>\n      <td>0</td>\n      <td>50</td>\n      <td>0</td>\n      <td>0</td>\n      <td>0</td>\n      <td>0</td>\n      <td>0</td>\n      <td>5</td>\n      <td>2010</td>\n    </tr>\n    <tr>\n      <th>28</th>\n      <td>20</td>\n      <td>47.00</td>\n      <td>16321</td>\n      <td>5</td>\n      <td>6</td>\n      <td>1957</td>\n      <td>1997</td>\n      <td>0</td>\n      <td>1277</td>\n      <td>0</td>\n      <td>...</td>\n      <td>319</td>\n      <td>288</td>\n      <td>258</td>\n      <td>0</td>\n      <td>0</td>\n      <td>0</td>\n      <td>0</td>\n      <td>0</td>\n      <td>12</td>\n      <td>2006</td>\n    </tr>\n    <tr>\n      <th>29</th>\n      <td>30</td>\n      <td>60.00</td>\n      <td>6324</td>\n      <td>4</td>\n      <td>6</td>\n      <td>1927</td>\n      <td>1950</td>\n      <td>0</td>\n      <td>0</td>\n      <td>0</td>\n      <td>...</td>\n      <td>240</td>\n      <td>49</td>\n      <td>0</td>\n      <td>87</td>\n      <td>0</td>\n      <td>0</td>\n      <td>0</td>\n      <td>0</td>\n      <td>5</td>\n      <td>2008</td>\n    </tr>\n  </tbody>\n</table>\n<p>30 rows × 36 columns</p>\n</div>"
     },
     "execution_count": 966,
     "metadata": {},
     "output_type": "execute_result"
    }
   ],
   "source": [
    "x = df.drop([\"HousePrice\"], axis = 1)  # drop - корсетылген атрибут немесе баганды ошыреды\n",
    "x"
   ],
   "metadata": {
    "collapsed": false
   }
  },
  {
   "cell_type": "code",
   "execution_count": 967,
   "outputs": [
    {
     "data": {
      "text/plain": "0     1\n1     1\n2     1\n3     0\n4     1\n5     0\n6     1\n7     1\n8     0\n9     0\n10    0\n11    1\n12    0\n13    1\n14    0\n15    0\n16    0\n17    0\n18    0\n19    0\n20    1\n21    0\n22    1\n23    0\n24    0\n25    1\n26    0\n27    1\n28    1\n29    0\nName: HousePrice, dtype: int64"
     },
     "execution_count": 967,
     "metadata": {},
     "output_type": "execute_result"
    }
   ],
   "source": [
    "# y = df.HousePrice\n",
    "y = df[\"HousePrice\"]\n",
    "y"
   ],
   "metadata": {
    "collapsed": false
   }
  },
  {
   "cell_type": "code",
   "execution_count": 968,
   "outputs": [
    {
     "data": {
      "text/plain": "    MSSubClass  LotFrontage  LotArea  OverallQual  OverallCond  YearBuilt  \\\n6           20        75.00    10084            8            5       2004   \n3           70        60.00     9550            7            5       1915   \n26          20        60.00     7200            5            7       1951   \n25          20       110.00    14230            8            5       2007   \n9          190        50.00     7420            5            6       1939   \n4           60        84.00    14260            8            5       2000   \n20          60       101.00    14215            8            5       2005   \n10          20        70.00    11200            5            5       1965   \n24          20        73.06     8246            5            8       1968   \n13          20        91.00    10652            7            5       2006   \n17          90        72.00    10791            4            5       1967   \n15          45        51.00     6120            7            8       1929   \n28          20        47.00    16321            5            6       1957   \n11          60        85.00    11924            9            5       2005   \n7           60        89.59    10382            7            6       1973   \n0           60        65.00     8450            7            5       2003   \n23         120        44.00     4224            5            7       1976   \n5           50        85.00    14115            5            5       1993   \n12          20        76.14    12968            5            6       1962   \n21          45        57.00     7449            7            7       1930   \n8           50        51.00     6120            7            5       1931   \n\n    YearRemodAdd  MasVnrArea  BsmtFinSF1  BsmtFinSF2  ...  GarageArea  \\\n6           2005         186        1369           0  ...         636   \n3           1970           0         216           0  ...         642   \n26          2000           0         234         486  ...         576   \n25          2007         640           0           0  ...         890   \n9           1950           0         851           0  ...         205   \n4           2000         350         655           0  ...         836   \n20          2006         380           0           0  ...         853   \n10          1965           0         906           0  ...         384   \n24          2001           0         188         668  ...         270   \n13          2007         306           0           0  ...         840   \n17          1967           0           0           0  ...         516   \n15          2001           0           0           0  ...         576   \n28          1997           0        1277           0  ...         319   \n11          2006         286         998           0  ...         736   \n7           1973         240         859          32  ...         484   \n0           2003         196         706           0  ...         548   \n23          1976           0         840           0  ...         572   \n5           1995           0         732           0  ...         480   \n12          1962           0         737           0  ...         352   \n21          1950           0           0           0  ...         280   \n8           1950           0           0           0  ...         468   \n\n    WoodDeckSF  OpenPorchSF  EnclosedPorch  X3SsnPorch  ScreenPorch  PoolArea  \\\n6          255           57              0           0            0         0   \n3            0           35            272           0            0         0   \n26         222           32              0           0            0         0   \n25           0           56              0           0            0         0   \n9            0            4              0           0            0         0   \n4          192           84              0           0            0         0   \n20         240          154              0           0            0         0   \n10           0            0              0           0            0         0   \n24         406           90              0           0            0         0   \n13         160           33              0           0            0         0   \n17           0            0              0           0            0         0   \n15          48          112              0           0            0         0   \n28         288          258              0           0            0         0   \n11         147           21              0           0            0         0   \n7          235          204            228           0            0         0   \n0            0           61              0           0            0         0   \n23         100          110              0           0            0         0   \n5           40           30              0         320            0         0   \n12         140            0              0           0          176         0   \n21           0            0            205           0            0         0   \n8           90            0            205           0            0         0   \n\n    MiscVal  MoSold  YrSold  \n6         0       8    2007  \n3         0       2    2006  \n26        0       5    2010  \n25        0       7    2009  \n9         0       1    2008  \n4         0      12    2008  \n20        0      11    2006  \n10        0       2    2008  \n24        0       5    2010  \n13        0       8    2007  \n17      500      10    2006  \n15        0       7    2007  \n28        0      12    2006  \n11        0       7    2006  \n7       350      11    2009  \n0         0       2    2008  \n23        0       6    2007  \n5       700      10    2009  \n12        0       9    2008  \n21        0       6    2007  \n8         0       4    2008  \n\n[21 rows x 36 columns]",
      "text/html": "<div>\n<style scoped>\n    .dataframe tbody tr th:only-of-type {\n        vertical-align: middle;\n    }\n\n    .dataframe tbody tr th {\n        vertical-align: top;\n    }\n\n    .dataframe thead th {\n        text-align: right;\n    }\n</style>\n<table border=\"1\" class=\"dataframe\">\n  <thead>\n    <tr style=\"text-align: right;\">\n      <th></th>\n      <th>MSSubClass</th>\n      <th>LotFrontage</th>\n      <th>LotArea</th>\n      <th>OverallQual</th>\n      <th>OverallCond</th>\n      <th>YearBuilt</th>\n      <th>YearRemodAdd</th>\n      <th>MasVnrArea</th>\n      <th>BsmtFinSF1</th>\n      <th>BsmtFinSF2</th>\n      <th>...</th>\n      <th>GarageArea</th>\n      <th>WoodDeckSF</th>\n      <th>OpenPorchSF</th>\n      <th>EnclosedPorch</th>\n      <th>X3SsnPorch</th>\n      <th>ScreenPorch</th>\n      <th>PoolArea</th>\n      <th>MiscVal</th>\n      <th>MoSold</th>\n      <th>YrSold</th>\n    </tr>\n  </thead>\n  <tbody>\n    <tr>\n      <th>6</th>\n      <td>20</td>\n      <td>75.00</td>\n      <td>10084</td>\n      <td>8</td>\n      <td>5</td>\n      <td>2004</td>\n      <td>2005</td>\n      <td>186</td>\n      <td>1369</td>\n      <td>0</td>\n      <td>...</td>\n      <td>636</td>\n      <td>255</td>\n      <td>57</td>\n      <td>0</td>\n      <td>0</td>\n      <td>0</td>\n      <td>0</td>\n      <td>0</td>\n      <td>8</td>\n      <td>2007</td>\n    </tr>\n    <tr>\n      <th>3</th>\n      <td>70</td>\n      <td>60.00</td>\n      <td>9550</td>\n      <td>7</td>\n      <td>5</td>\n      <td>1915</td>\n      <td>1970</td>\n      <td>0</td>\n      <td>216</td>\n      <td>0</td>\n      <td>...</td>\n      <td>642</td>\n      <td>0</td>\n      <td>35</td>\n      <td>272</td>\n      <td>0</td>\n      <td>0</td>\n      <td>0</td>\n      <td>0</td>\n      <td>2</td>\n      <td>2006</td>\n    </tr>\n    <tr>\n      <th>26</th>\n      <td>20</td>\n      <td>60.00</td>\n      <td>7200</td>\n      <td>5</td>\n      <td>7</td>\n      <td>1951</td>\n      <td>2000</td>\n      <td>0</td>\n      <td>234</td>\n      <td>486</td>\n      <td>...</td>\n      <td>576</td>\n      <td>222</td>\n      <td>32</td>\n      <td>0</td>\n      <td>0</td>\n      <td>0</td>\n      <td>0</td>\n      <td>0</td>\n      <td>5</td>\n      <td>2010</td>\n    </tr>\n    <tr>\n      <th>25</th>\n      <td>20</td>\n      <td>110.00</td>\n      <td>14230</td>\n      <td>8</td>\n      <td>5</td>\n      <td>2007</td>\n      <td>2007</td>\n      <td>640</td>\n      <td>0</td>\n      <td>0</td>\n      <td>...</td>\n      <td>890</td>\n      <td>0</td>\n      <td>56</td>\n      <td>0</td>\n      <td>0</td>\n      <td>0</td>\n      <td>0</td>\n      <td>0</td>\n      <td>7</td>\n      <td>2009</td>\n    </tr>\n    <tr>\n      <th>9</th>\n      <td>190</td>\n      <td>50.00</td>\n      <td>7420</td>\n      <td>5</td>\n      <td>6</td>\n      <td>1939</td>\n      <td>1950</td>\n      <td>0</td>\n      <td>851</td>\n      <td>0</td>\n      <td>...</td>\n      <td>205</td>\n      <td>0</td>\n      <td>4</td>\n      <td>0</td>\n      <td>0</td>\n      <td>0</td>\n      <td>0</td>\n      <td>0</td>\n      <td>1</td>\n      <td>2008</td>\n    </tr>\n    <tr>\n      <th>4</th>\n      <td>60</td>\n      <td>84.00</td>\n      <td>14260</td>\n      <td>8</td>\n      <td>5</td>\n      <td>2000</td>\n      <td>2000</td>\n      <td>350</td>\n      <td>655</td>\n      <td>0</td>\n      <td>...</td>\n      <td>836</td>\n      <td>192</td>\n      <td>84</td>\n      <td>0</td>\n      <td>0</td>\n      <td>0</td>\n      <td>0</td>\n      <td>0</td>\n      <td>12</td>\n      <td>2008</td>\n    </tr>\n    <tr>\n      <th>20</th>\n      <td>60</td>\n      <td>101.00</td>\n      <td>14215</td>\n      <td>8</td>\n      <td>5</td>\n      <td>2005</td>\n      <td>2006</td>\n      <td>380</td>\n      <td>0</td>\n      <td>0</td>\n      <td>...</td>\n      <td>853</td>\n      <td>240</td>\n      <td>154</td>\n      <td>0</td>\n      <td>0</td>\n      <td>0</td>\n      <td>0</td>\n      <td>0</td>\n      <td>11</td>\n      <td>2006</td>\n    </tr>\n    <tr>\n      <th>10</th>\n      <td>20</td>\n      <td>70.00</td>\n      <td>11200</td>\n      <td>5</td>\n      <td>5</td>\n      <td>1965</td>\n      <td>1965</td>\n      <td>0</td>\n      <td>906</td>\n      <td>0</td>\n      <td>...</td>\n      <td>384</td>\n      <td>0</td>\n      <td>0</td>\n      <td>0</td>\n      <td>0</td>\n      <td>0</td>\n      <td>0</td>\n      <td>0</td>\n      <td>2</td>\n      <td>2008</td>\n    </tr>\n    <tr>\n      <th>24</th>\n      <td>20</td>\n      <td>73.06</td>\n      <td>8246</td>\n      <td>5</td>\n      <td>8</td>\n      <td>1968</td>\n      <td>2001</td>\n      <td>0</td>\n      <td>188</td>\n      <td>668</td>\n      <td>...</td>\n      <td>270</td>\n      <td>406</td>\n      <td>90</td>\n      <td>0</td>\n      <td>0</td>\n      <td>0</td>\n      <td>0</td>\n      <td>0</td>\n      <td>5</td>\n      <td>2010</td>\n    </tr>\n    <tr>\n      <th>13</th>\n      <td>20</td>\n      <td>91.00</td>\n      <td>10652</td>\n      <td>7</td>\n      <td>5</td>\n      <td>2006</td>\n      <td>2007</td>\n      <td>306</td>\n      <td>0</td>\n      <td>0</td>\n      <td>...</td>\n      <td>840</td>\n      <td>160</td>\n      <td>33</td>\n      <td>0</td>\n      <td>0</td>\n      <td>0</td>\n      <td>0</td>\n      <td>0</td>\n      <td>8</td>\n      <td>2007</td>\n    </tr>\n    <tr>\n      <th>17</th>\n      <td>90</td>\n      <td>72.00</td>\n      <td>10791</td>\n      <td>4</td>\n      <td>5</td>\n      <td>1967</td>\n      <td>1967</td>\n      <td>0</td>\n      <td>0</td>\n      <td>0</td>\n      <td>...</td>\n      <td>516</td>\n      <td>0</td>\n      <td>0</td>\n      <td>0</td>\n      <td>0</td>\n      <td>0</td>\n      <td>0</td>\n      <td>500</td>\n      <td>10</td>\n      <td>2006</td>\n    </tr>\n    <tr>\n      <th>15</th>\n      <td>45</td>\n      <td>51.00</td>\n      <td>6120</td>\n      <td>7</td>\n      <td>8</td>\n      <td>1929</td>\n      <td>2001</td>\n      <td>0</td>\n      <td>0</td>\n      <td>0</td>\n      <td>...</td>\n      <td>576</td>\n      <td>48</td>\n      <td>112</td>\n      <td>0</td>\n      <td>0</td>\n      <td>0</td>\n      <td>0</td>\n      <td>0</td>\n      <td>7</td>\n      <td>2007</td>\n    </tr>\n    <tr>\n      <th>28</th>\n      <td>20</td>\n      <td>47.00</td>\n      <td>16321</td>\n      <td>5</td>\n      <td>6</td>\n      <td>1957</td>\n      <td>1997</td>\n      <td>0</td>\n      <td>1277</td>\n      <td>0</td>\n      <td>...</td>\n      <td>319</td>\n      <td>288</td>\n      <td>258</td>\n      <td>0</td>\n      <td>0</td>\n      <td>0</td>\n      <td>0</td>\n      <td>0</td>\n      <td>12</td>\n      <td>2006</td>\n    </tr>\n    <tr>\n      <th>11</th>\n      <td>60</td>\n      <td>85.00</td>\n      <td>11924</td>\n      <td>9</td>\n      <td>5</td>\n      <td>2005</td>\n      <td>2006</td>\n      <td>286</td>\n      <td>998</td>\n      <td>0</td>\n      <td>...</td>\n      <td>736</td>\n      <td>147</td>\n      <td>21</td>\n      <td>0</td>\n      <td>0</td>\n      <td>0</td>\n      <td>0</td>\n      <td>0</td>\n      <td>7</td>\n      <td>2006</td>\n    </tr>\n    <tr>\n      <th>7</th>\n      <td>60</td>\n      <td>89.59</td>\n      <td>10382</td>\n      <td>7</td>\n      <td>6</td>\n      <td>1973</td>\n      <td>1973</td>\n      <td>240</td>\n      <td>859</td>\n      <td>32</td>\n      <td>...</td>\n      <td>484</td>\n      <td>235</td>\n      <td>204</td>\n      <td>228</td>\n      <td>0</td>\n      <td>0</td>\n      <td>0</td>\n      <td>350</td>\n      <td>11</td>\n      <td>2009</td>\n    </tr>\n    <tr>\n      <th>0</th>\n      <td>60</td>\n      <td>65.00</td>\n      <td>8450</td>\n      <td>7</td>\n      <td>5</td>\n      <td>2003</td>\n      <td>2003</td>\n      <td>196</td>\n      <td>706</td>\n      <td>0</td>\n      <td>...</td>\n      <td>548</td>\n      <td>0</td>\n      <td>61</td>\n      <td>0</td>\n      <td>0</td>\n      <td>0</td>\n      <td>0</td>\n      <td>0</td>\n      <td>2</td>\n      <td>2008</td>\n    </tr>\n    <tr>\n      <th>23</th>\n      <td>120</td>\n      <td>44.00</td>\n      <td>4224</td>\n      <td>5</td>\n      <td>7</td>\n      <td>1976</td>\n      <td>1976</td>\n      <td>0</td>\n      <td>840</td>\n      <td>0</td>\n      <td>...</td>\n      <td>572</td>\n      <td>100</td>\n      <td>110</td>\n      <td>0</td>\n      <td>0</td>\n      <td>0</td>\n      <td>0</td>\n      <td>0</td>\n      <td>6</td>\n      <td>2007</td>\n    </tr>\n    <tr>\n      <th>5</th>\n      <td>50</td>\n      <td>85.00</td>\n      <td>14115</td>\n      <td>5</td>\n      <td>5</td>\n      <td>1993</td>\n      <td>1995</td>\n      <td>0</td>\n      <td>732</td>\n      <td>0</td>\n      <td>...</td>\n      <td>480</td>\n      <td>40</td>\n      <td>30</td>\n      <td>0</td>\n      <td>320</td>\n      <td>0</td>\n      <td>0</td>\n      <td>700</td>\n      <td>10</td>\n      <td>2009</td>\n    </tr>\n    <tr>\n      <th>12</th>\n      <td>20</td>\n      <td>76.14</td>\n      <td>12968</td>\n      <td>5</td>\n      <td>6</td>\n      <td>1962</td>\n      <td>1962</td>\n      <td>0</td>\n      <td>737</td>\n      <td>0</td>\n      <td>...</td>\n      <td>352</td>\n      <td>140</td>\n      <td>0</td>\n      <td>0</td>\n      <td>0</td>\n      <td>176</td>\n      <td>0</td>\n      <td>0</td>\n      <td>9</td>\n      <td>2008</td>\n    </tr>\n    <tr>\n      <th>21</th>\n      <td>45</td>\n      <td>57.00</td>\n      <td>7449</td>\n      <td>7</td>\n      <td>7</td>\n      <td>1930</td>\n      <td>1950</td>\n      <td>0</td>\n      <td>0</td>\n      <td>0</td>\n      <td>...</td>\n      <td>280</td>\n      <td>0</td>\n      <td>0</td>\n      <td>205</td>\n      <td>0</td>\n      <td>0</td>\n      <td>0</td>\n      <td>0</td>\n      <td>6</td>\n      <td>2007</td>\n    </tr>\n    <tr>\n      <th>8</th>\n      <td>50</td>\n      <td>51.00</td>\n      <td>6120</td>\n      <td>7</td>\n      <td>5</td>\n      <td>1931</td>\n      <td>1950</td>\n      <td>0</td>\n      <td>0</td>\n      <td>0</td>\n      <td>...</td>\n      <td>468</td>\n      <td>90</td>\n      <td>0</td>\n      <td>205</td>\n      <td>0</td>\n      <td>0</td>\n      <td>0</td>\n      <td>0</td>\n      <td>4</td>\n      <td>2008</td>\n    </tr>\n  </tbody>\n</table>\n<p>21 rows × 36 columns</p>\n</div>"
     },
     "execution_count": 968,
     "metadata": {},
     "output_type": "execute_result"
    }
   ],
   "source": [
    "from sklearn.model_selection import train_test_split\n",
    "\n",
    "x_train,x_test,y_train,y_test = train_test_split(x,y,test_size=0.3,random_state=15)\n",
    "# x_train,x_test,y_train,y_test = train_test_split(x,y,test_size=0.3)\n",
    "x_train"
   ],
   "metadata": {
    "collapsed": false
   }
  },
  {
   "cell_type": "code",
   "execution_count": 969,
   "outputs": [
    {
     "data": {
      "text/plain": "((21, 36), (9, 36))"
     },
     "execution_count": 969,
     "metadata": {},
     "output_type": "execute_result"
    }
   ],
   "source": [
    "x_train.shape, x_test.shape"
   ],
   "metadata": {
    "collapsed": false
   }
  },
  {
   "cell_type": "code",
   "execution_count": 970,
   "outputs": [
    {
     "data": {
      "text/plain": "((21,), (9,))"
     },
     "execution_count": 970,
     "metadata": {},
     "output_type": "execute_result"
    }
   ],
   "source": [
    "y_train.shape, y_test.shape"
   ],
   "metadata": {
    "collapsed": false
   }
  },
  {
   "cell_type": "code",
   "execution_count": 971,
   "outputs": [
    {
     "data": {
      "text/plain": "6     1\n3     0\n26    0\n25    1\n9     0\n4     1\n20    1\n10    0\n24    0\n13    1\n17    0\n15    0\n28    1\n11    1\n7     1\n0     1\n23    0\n5     0\n12    0\n21    0\n8     0\nName: HousePrice, dtype: int64"
     },
     "execution_count": 971,
     "metadata": {},
     "output_type": "execute_result"
    }
   ],
   "source": [
    "y_train"
   ],
   "metadata": {
    "collapsed": false
   }
  },
  {
   "cell_type": "code",
   "execution_count": 972,
   "outputs": [
    {
     "data": {
      "text/plain": "16    0\n14    0\n27    1\n22    1\n19    0\n18    0\n1     1\n2     1\n29    0\nName: HousePrice, dtype: int64"
     },
     "execution_count": 972,
     "metadata": {},
     "output_type": "execute_result"
    }
   ],
   "source": [
    "# x_test\n",
    "y_test"
   ],
   "metadata": {
    "collapsed": false
   }
  },
  {
   "cell_type": "code",
   "execution_count": 973,
   "outputs": [],
   "source": [
    "from sklearn.tree import DecisionTreeClassifier, DecisionTreeRegressor\n",
    "\n",
    "DTC = DecisionTreeClassifier(criterion='entropy')\n",
    "# DTC = DecisionTreeClassifier()\n",
    "# ? DecisionTreeClassifier\n",
    "# окып келу!"
   ],
   "metadata": {
    "collapsed": false
   }
  },
  {
   "cell_type": "code",
   "execution_count": 974,
   "outputs": [
    {
     "data": {
      "text/plain": "DecisionTreeClassifier(criterion='entropy')",
      "text/html": "<style>#sk-container-id-40 {color: black;background-color: white;}#sk-container-id-40 pre{padding: 0;}#sk-container-id-40 div.sk-toggleable {background-color: white;}#sk-container-id-40 label.sk-toggleable__label {cursor: pointer;display: block;width: 100%;margin-bottom: 0;padding: 0.3em;box-sizing: border-box;text-align: center;}#sk-container-id-40 label.sk-toggleable__label-arrow:before {content: \"▸\";float: left;margin-right: 0.25em;color: #696969;}#sk-container-id-40 label.sk-toggleable__label-arrow:hover:before {color: black;}#sk-container-id-40 div.sk-estimator:hover label.sk-toggleable__label-arrow:before {color: black;}#sk-container-id-40 div.sk-toggleable__content {max-height: 0;max-width: 0;overflow: hidden;text-align: left;background-color: #f0f8ff;}#sk-container-id-40 div.sk-toggleable__content pre {margin: 0.2em;color: black;border-radius: 0.25em;background-color: #f0f8ff;}#sk-container-id-40 input.sk-toggleable__control:checked~div.sk-toggleable__content {max-height: 200px;max-width: 100%;overflow: auto;}#sk-container-id-40 input.sk-toggleable__control:checked~label.sk-toggleable__label-arrow:before {content: \"▾\";}#sk-container-id-40 div.sk-estimator input.sk-toggleable__control:checked~label.sk-toggleable__label {background-color: #d4ebff;}#sk-container-id-40 div.sk-label input.sk-toggleable__control:checked~label.sk-toggleable__label {background-color: #d4ebff;}#sk-container-id-40 input.sk-hidden--visually {border: 0;clip: rect(1px 1px 1px 1px);clip: rect(1px, 1px, 1px, 1px);height: 1px;margin: -1px;overflow: hidden;padding: 0;position: absolute;width: 1px;}#sk-container-id-40 div.sk-estimator {font-family: monospace;background-color: #f0f8ff;border: 1px dotted black;border-radius: 0.25em;box-sizing: border-box;margin-bottom: 0.5em;}#sk-container-id-40 div.sk-estimator:hover {background-color: #d4ebff;}#sk-container-id-40 div.sk-parallel-item::after {content: \"\";width: 100%;border-bottom: 1px solid gray;flex-grow: 1;}#sk-container-id-40 div.sk-label:hover label.sk-toggleable__label {background-color: #d4ebff;}#sk-container-id-40 div.sk-serial::before {content: \"\";position: absolute;border-left: 1px solid gray;box-sizing: border-box;top: 0;bottom: 0;left: 50%;z-index: 0;}#sk-container-id-40 div.sk-serial {display: flex;flex-direction: column;align-items: center;background-color: white;padding-right: 0.2em;padding-left: 0.2em;position: relative;}#sk-container-id-40 div.sk-item {position: relative;z-index: 1;}#sk-container-id-40 div.sk-parallel {display: flex;align-items: stretch;justify-content: center;background-color: white;position: relative;}#sk-container-id-40 div.sk-item::before, #sk-container-id-40 div.sk-parallel-item::before {content: \"\";position: absolute;border-left: 1px solid gray;box-sizing: border-box;top: 0;bottom: 0;left: 50%;z-index: -1;}#sk-container-id-40 div.sk-parallel-item {display: flex;flex-direction: column;z-index: 1;position: relative;background-color: white;}#sk-container-id-40 div.sk-parallel-item:first-child::after {align-self: flex-end;width: 50%;}#sk-container-id-40 div.sk-parallel-item:last-child::after {align-self: flex-start;width: 50%;}#sk-container-id-40 div.sk-parallel-item:only-child::after {width: 0;}#sk-container-id-40 div.sk-dashed-wrapped {border: 1px dashed gray;margin: 0 0.4em 0.5em 0.4em;box-sizing: border-box;padding-bottom: 0.4em;background-color: white;}#sk-container-id-40 div.sk-label label {font-family: monospace;font-weight: bold;display: inline-block;line-height: 1.2em;}#sk-container-id-40 div.sk-label-container {text-align: center;}#sk-container-id-40 div.sk-container {/* jupyter's `normalize.less` sets `[hidden] { display: none; }` but bootstrap.min.css set `[hidden] { display: none !important; }` so we also need the `!important` here to be able to override the default hidden behavior on the sphinx rendered scikit-learn.org. See: https://github.com/scikit-learn/scikit-learn/issues/21755 */display: inline-block !important;position: relative;}#sk-container-id-40 div.sk-text-repr-fallback {display: none;}</style><div id=\"sk-container-id-40\" class=\"sk-top-container\"><div class=\"sk-text-repr-fallback\"><pre>DecisionTreeClassifier(criterion=&#x27;entropy&#x27;)</pre><b>In a Jupyter environment, please rerun this cell to show the HTML representation or trust the notebook. <br />On GitHub, the HTML representation is unable to render, please try loading this page with nbviewer.org.</b></div><div class=\"sk-container\" hidden><div class=\"sk-item\"><div class=\"sk-estimator sk-toggleable\"><input class=\"sk-toggleable__control sk-hidden--visually\" id=\"sk-estimator-id-40\" type=\"checkbox\" checked><label for=\"sk-estimator-id-40\" class=\"sk-toggleable__label sk-toggleable__label-arrow\">DecisionTreeClassifier</label><div class=\"sk-toggleable__content\"><pre>DecisionTreeClassifier(criterion=&#x27;entropy&#x27;)</pre></div></div></div></div></div>"
     },
     "execution_count": 974,
     "metadata": {},
     "output_type": "execute_result"
    }
   ],
   "source": [
    "DTC.fit(x_train, y_train)"
   ],
   "metadata": {
    "collapsed": false
   }
  },
  {
   "cell_type": "code",
   "execution_count": 975,
   "outputs": [
    {
     "data": {
      "text/plain": "array([1, 1, 1, 1, 0, 0, 0, 1, 0])"
     },
     "execution_count": 975,
     "metadata": {},
     "output_type": "execute_result"
    }
   ],
   "source": [
    "y_pred = DTC.predict(x_test)\n",
    "y_pred"
   ],
   "metadata": {
    "collapsed": false
   }
  },
  {
   "cell_type": "code",
   "execution_count": 976,
   "outputs": [
    {
     "data": {
      "text/plain": "16    0\n14    0\n27    1\n22    1\n19    0\n18    0\n1     1\n2     1\n29    0\nName: HousePrice, dtype: int64"
     },
     "execution_count": 976,
     "metadata": {},
     "output_type": "execute_result"
    }
   ],
   "source": [
    "y_test"
   ],
   "metadata": {
    "collapsed": false
   }
  },
  {
   "cell_type": "code",
   "execution_count": 977,
   "outputs": [
    {
     "data": {
      "image/svg+xml": "<?xml version=\"1.0\" encoding=\"UTF-8\" standalone=\"no\"?>\n<!DOCTYPE svg PUBLIC \"-//W3C//DTD SVG 1.1//EN\"\n \"http://www.w3.org/Graphics/SVG/1.1/DTD/svg11.dtd\">\n<!-- Generated by graphviz version 2.43.0 (0)\n -->\n<!-- Title: Tree Pages: 1 -->\n<svg width=\"498pt\" height=\"175pt\"\n viewBox=\"0.00 0.00 498.00 175.00\" xmlns=\"http://www.w3.org/2000/svg\" xmlns:xlink=\"http://www.w3.org/1999/xlink\">\n<g id=\"graph0\" class=\"graph\" transform=\"scale(1 1) rotate(0) translate(4 171)\">\n<title>Tree</title>\n<polygon fill=\"white\" stroke=\"transparent\" points=\"-4,4 -4,-171 494,-171 494,4 -4,4\"/>\n<!-- 0 -->\n<g id=\"node1\" class=\"node\">\n<title>0</title>\n<polygon fill=\"none\" stroke=\"black\" points=\"165,-99.5 0,-99.5 0,-31.5 165,-31.5 165,-99.5\"/>\n<text text-anchor=\"middle\" x=\"82.5\" y=\"-84.3\" font-family=\"Helvetica,sans-Serif\" font-size=\"14.00\">MasVnrArea &lt;= 93.0</text>\n<text text-anchor=\"middle\" x=\"82.5\" y=\"-69.3\" font-family=\"Helvetica,sans-Serif\" font-size=\"14.00\">entropy = 0.985</text>\n<text text-anchor=\"middle\" x=\"82.5\" y=\"-54.3\" font-family=\"Helvetica,sans-Serif\" font-size=\"14.00\">samples = 21</text>\n<text text-anchor=\"middle\" x=\"82.5\" y=\"-39.3\" font-family=\"Helvetica,sans-Serif\" font-size=\"14.00\">value = [12, 9]</text>\n</g>\n<!-- 1 -->\n<g id=\"node2\" class=\"node\">\n<title>1</title>\n<polygon fill=\"none\" stroke=\"black\" points=\"332,-139.5 201,-139.5 201,-71.5 332,-71.5 332,-139.5\"/>\n<text text-anchor=\"middle\" x=\"266.5\" y=\"-124.3\" font-family=\"Helvetica,sans-Serif\" font-size=\"14.00\">MoSold &lt;= 11.0</text>\n<text text-anchor=\"middle\" x=\"266.5\" y=\"-109.3\" font-family=\"Helvetica,sans-Serif\" font-size=\"14.00\">entropy = 0.391</text>\n<text text-anchor=\"middle\" x=\"266.5\" y=\"-94.3\" font-family=\"Helvetica,sans-Serif\" font-size=\"14.00\">samples = 13</text>\n<text text-anchor=\"middle\" x=\"266.5\" y=\"-79.3\" font-family=\"Helvetica,sans-Serif\" font-size=\"14.00\">value = [12, 1]</text>\n</g>\n<!-- 0&#45;&gt;1 -->\n<g id=\"edge1\" class=\"edge\">\n<title>0&#45;&gt;1</title>\n<path fill=\"none\" stroke=\"black\" d=\"M165.18,-83.45C173.81,-85.35 182.55,-87.27 191.09,-89.15\"/>\n<polygon fill=\"black\" stroke=\"black\" points=\"190.48,-92.6 201,-91.32 191.98,-85.76 190.48,-92.6\"/>\n<text text-anchor=\"middle\" x=\"179.94\" y=\"-101.09\" font-family=\"Helvetica,sans-Serif\" font-size=\"14.00\">True</text>\n</g>\n<!-- 4 -->\n<g id=\"node5\" class=\"node\">\n<title>4</title>\n<polygon fill=\"none\" stroke=\"black\" points=\"323,-53 210,-53 210,0 323,0 323,-53\"/>\n<text text-anchor=\"middle\" x=\"266.5\" y=\"-37.8\" font-family=\"Helvetica,sans-Serif\" font-size=\"14.00\">entropy = 0.0</text>\n<text text-anchor=\"middle\" x=\"266.5\" y=\"-22.8\" font-family=\"Helvetica,sans-Serif\" font-size=\"14.00\">samples = 8</text>\n<text text-anchor=\"middle\" x=\"266.5\" y=\"-7.8\" font-family=\"Helvetica,sans-Serif\" font-size=\"14.00\">value = [0, 8]</text>\n</g>\n<!-- 0&#45;&gt;4 -->\n<g id=\"edge4\" class=\"edge\">\n<title>0&#45;&gt;4</title>\n<path fill=\"none\" stroke=\"black\" d=\"M165.18,-48C176.88,-45.49 188.78,-42.94 200.1,-40.51\"/>\n<polygon fill=\"black\" stroke=\"black\" points=\"200.84,-43.93 209.89,-38.42 199.38,-37.09 200.84,-43.93\"/>\n<text text-anchor=\"middle\" x=\"188.9\" y=\"-21.14\" font-family=\"Helvetica,sans-Serif\" font-size=\"14.00\">False</text>\n</g>\n<!-- 2 -->\n<g id=\"node3\" class=\"node\">\n<title>2</title>\n<polygon fill=\"none\" stroke=\"black\" points=\"490,-167 368,-167 368,-114 490,-114 490,-167\"/>\n<text text-anchor=\"middle\" x=\"429\" y=\"-151.8\" font-family=\"Helvetica,sans-Serif\" font-size=\"14.00\">entropy = 0.0</text>\n<text text-anchor=\"middle\" x=\"429\" y=\"-136.8\" font-family=\"Helvetica,sans-Serif\" font-size=\"14.00\">samples = 12</text>\n<text text-anchor=\"middle\" x=\"429\" y=\"-121.8\" font-family=\"Helvetica,sans-Serif\" font-size=\"14.00\">value = [12, 0]</text>\n</g>\n<!-- 1&#45;&gt;2 -->\n<g id=\"edge2\" class=\"edge\">\n<title>1&#45;&gt;2</title>\n<path fill=\"none\" stroke=\"black\" d=\"M332.32,-119.63C340.76,-121.48 349.44,-123.37 357.96,-125.23\"/>\n<polygon fill=\"black\" stroke=\"black\" points=\"357.35,-128.68 367.87,-127.39 358.85,-121.84 357.35,-128.68\"/>\n</g>\n<!-- 3 -->\n<g id=\"node4\" class=\"node\">\n<title>3</title>\n<polygon fill=\"none\" stroke=\"black\" points=\"485.5,-96 372.5,-96 372.5,-43 485.5,-43 485.5,-96\"/>\n<text text-anchor=\"middle\" x=\"429\" y=\"-80.8\" font-family=\"Helvetica,sans-Serif\" font-size=\"14.00\">entropy = 0.0</text>\n<text text-anchor=\"middle\" x=\"429\" y=\"-65.8\" font-family=\"Helvetica,sans-Serif\" font-size=\"14.00\">samples = 1</text>\n<text text-anchor=\"middle\" x=\"429\" y=\"-50.8\" font-family=\"Helvetica,sans-Serif\" font-size=\"14.00\">value = [0, 1]</text>\n</g>\n<!-- 1&#45;&gt;3 -->\n<g id=\"edge3\" class=\"edge\">\n<title>1&#45;&gt;3</title>\n<path fill=\"none\" stroke=\"black\" d=\"M332.32,-90.96C342.3,-88.72 352.62,-86.41 362.61,-84.17\"/>\n<polygon fill=\"black\" stroke=\"black\" points=\"363.49,-87.56 372.48,-81.95 361.95,-80.73 363.49,-87.56\"/>\n</g>\n</g>\n</svg>\n",
      "text/plain": "<graphviz.sources.Source at 0x7f2ed0e28f10>"
     },
     "execution_count": 977,
     "metadata": {},
     "output_type": "execute_result"
    }
   ],
   "source": [
    "import graphviz\n",
    "from sklearn import tree\n",
    "import os\n",
    "import sys\n",
    "\n",
    "os.environ[\"PATH\"] += os.pathsep + r'\\home\\adil\\Downloads\\graphviz-2.38\\release\\bin'\n",
    "tree1_view = tree.export_graphviz(DTC, out_file=None, feature_names = x.columns.values, rotate=True)\n",
    "tree1viz = graphviz.Source(tree1_view)\n",
    "tree1viz"
   ],
   "metadata": {
    "collapsed": false
   }
  },
  {
   "cell_type": "code",
   "execution_count": 978,
   "outputs": [
    {
     "data": {
      "text/plain": "'tree.png'"
     },
     "execution_count": 978,
     "metadata": {},
     "output_type": "execute_result"
    }
   ],
   "source": [
    "dot_data =tree.export_graphviz(DTC, out_file=None,filled=True, rounded=True,feature_names = x.columns.values, special_characters=True)\n",
    "graph = graphviz.Source(dot_data, format='png')\n",
    "graph.render(\"tree\")"
   ],
   "metadata": {
    "collapsed": false
   }
  },
  {
   "cell_type": "code",
   "execution_count": 979,
   "outputs": [
    {
     "data": {
      "text/plain": "0.6666666666666666"
     },
     "execution_count": 979,
     "metadata": {},
     "output_type": "execute_result"
    }
   ],
   "source": [
    "from sklearn import metrics\n",
    "\n",
    "metrics.accuracy_score(y_test, y_pred)"
   ],
   "metadata": {
    "collapsed": false
   }
  },
  {
   "cell_type": "code",
   "execution_count": 980,
   "outputs": [
    {
     "name": "stdout",
     "output_type": "stream",
     "text": [
      "Confusion matrix\n",
      "\n",
      " [[3 2]\n",
      " [1 3]]\n"
     ]
    }
   ],
   "source": [
    "from sklearn.metrics import confusion_matrix\n",
    "cm = confusion_matrix(y_test, y_pred)\n",
    "print('Confusion matrix\\n\\n', cm)"
   ],
   "metadata": {
    "collapsed": false
   }
  },
  {
   "cell_type": "code",
   "execution_count": 981,
   "outputs": [
    {
     "name": "stdout",
     "output_type": "stream",
     "text": [
      "0.47640748924827947\n"
     ]
    }
   ],
   "source": [
    "def get_gini(samples_count, value_true):\n",
    "    value_false = samples_count - value_true\n",
    "    total = 1 - (pow(value_true/samples_count, 2) + pow(value_false/samples_count, 2))\n",
    "    return total\n",
    "\n",
    "print(get_gini(1022, 622))\n",
    "\n",
    "# information_gain"
   ],
   "metadata": {
    "collapsed": false
   }
  },
  {
   "cell_type": "code",
   "execution_count": 987,
   "outputs": [
    {
     "name": "stdout",
     "output_type": "stream",
     "text": [
      "['MSSubClass', 'LotFrontage', 'LotArea', 'OverallQual', 'OverallCond', 'YearBuilt', 'YearRemodAdd', 'MasVnrArea', 'BsmtFinSF1', 'BsmtFinSF2', 'BsmtUnfSF', 'TotalBsmtSF', 'X1stFlrSF', 'X2ndFlrSF', 'LowQualFinSF', 'GrLivArea', 'BsmtFullBath', 'BsmtHalfBath', 'FullBath', 'HalfBath', 'BedroomAbvGr', 'KitchenAbvGr', 'TotRmsAbvGrd', 'Fireplaces', 'GarageYrBlt', 'GarageCars', 'GarageArea', 'WoodDeckSF', 'OpenPorchSF', 'EnclosedPorch', 'X3SsnPorch', 'ScreenPorch', 'PoolArea', 'MiscVal', 'MoSold', 'YrSold', 'HousePrice']\n",
      "------------------------------------------\n"
     ]
    },
    {
     "data": {
      "text/plain": "Index(['MSSubClass', 'LotFrontage', 'LotArea', 'OverallQual', 'OverallCond',\n       'YearBuilt', 'YearRemodAdd', 'MasVnrArea', 'BsmtFinSF1', 'BsmtFinSF2',\n       'BsmtUnfSF', 'TotalBsmtSF', 'X1stFlrSF', 'X2ndFlrSF', 'LowQualFinSF',\n       'GrLivArea', 'BsmtFullBath', 'BsmtHalfBath', 'FullBath', 'HalfBath',\n       'BedroomAbvGr', 'KitchenAbvGr', 'TotRmsAbvGrd', 'Fireplaces',\n       'GarageYrBlt', 'GarageCars', 'GarageArea', 'WoodDeckSF', 'OpenPorchSF',\n       'EnclosedPorch', 'X3SsnPorch', 'ScreenPorch', 'PoolArea', 'MiscVal',\n       'MoSold', 'YrSold', 'HousePrice'],\n      dtype='object')"
     },
     "execution_count": 987,
     "metadata": {},
     "output_type": "execute_result"
    }
   ],
   "source": [
    "def sort_columns(column_name):\n",
    "    return df.sort_values(by=['column_name','HousePrice'], inplace=True, ascending = [True, True])\n",
    "\n",
    "columns_values = list(df.columns.values)\n",
    "print(columns_values)\n",
    "print('------------------------------------------')\n",
    "df.columns"
   ],
   "metadata": {
    "collapsed": false
   }
  },
  {
   "cell_type": "code",
   "execution_count": 983,
   "outputs": [
    {
     "name": "stdout",
     "output_type": "stream",
     "text": [
      "Column: MSSubClass\n",
      "Values [ 60  20  70  50 190  45  90 120  30]\n",
      "subset:     MSSubClass  LotFrontage  LotArea  OverallQual  OverallCond  YearBuilt  \\\n",
      "0           60        65.00     8450            7            5       2003   \n",
      "2           60        68.00    11250            7            5       2001   \n",
      "4           60        84.00    14260            8            5       2000   \n",
      "7           60        89.59    10382            7            6       1973   \n",
      "11          60        85.00    11924            9            5       2005   \n",
      "20          60       101.00    14215            8            5       2005   \n",
      "\n",
      "    YearRemodAdd  MasVnrArea  BsmtFinSF1  BsmtFinSF2  ...  WoodDeckSF  \\\n",
      "0           2003         196         706           0  ...           0   \n",
      "2           2002         162         486           0  ...           0   \n",
      "4           2000         350         655           0  ...         192   \n",
      "7           1973         240         859          32  ...         235   \n",
      "11          2006         286         998           0  ...         147   \n",
      "20          2006         380           0           0  ...         240   \n",
      "\n",
      "    OpenPorchSF  EnclosedPorch  X3SsnPorch  ScreenPorch  PoolArea  MiscVal  \\\n",
      "0            61              0           0            0         0        0   \n",
      "2            42              0           0            0         0        0   \n",
      "4            84              0           0            0         0        0   \n",
      "7           204            228           0            0         0      350   \n",
      "11           21              0           0            0         0        0   \n",
      "20          154              0           0            0         0        0   \n",
      "\n",
      "    MoSold  YrSold  HousePrice  \n",
      "0        2    2008           1  \n",
      "2        9    2008           1  \n",
      "4       12    2008           1  \n",
      "7       11    2009           1  \n",
      "11       7    2006           1  \n",
      "20      11    2006           1  \n",
      "\n",
      "[6 rows x 37 columns]\n",
      "------------------------\n",
      "subset.shape 6\n",
      "prob: 0.2\n",
      "subset:     MSSubClass  LotFrontage  LotArea  OverallQual  OverallCond  YearBuilt  \\\n",
      "1           20        80.00     9600            6            8       1976   \n",
      "6           20        75.00    10084            8            5       2004   \n",
      "10          20        70.00    11200            5            5       1965   \n",
      "12          20        76.14    12968            5            6       1962   \n",
      "13          20        91.00    10652            7            5       2006   \n",
      "14          20        82.42    10920            6            5       1960   \n",
      "16          20        73.56    11241            6            7       1970   \n",
      "18          20        66.00    13695            5            5       2004   \n",
      "19          20        70.00     7560            5            6       1958   \n",
      "22          20        75.00     9742            8            5       2002   \n",
      "24          20        73.06     8246            5            8       1968   \n",
      "25          20       110.00    14230            8            5       2007   \n",
      "26          20        60.00     7200            5            7       1951   \n",
      "27          20        98.00    11478            8            5       2007   \n",
      "28          20        47.00    16321            5            6       1957   \n",
      "\n",
      "    YearRemodAdd  MasVnrArea  BsmtFinSF1  BsmtFinSF2  ...  WoodDeckSF  \\\n",
      "1           1976           0         978           0  ...         298   \n",
      "6           2005         186        1369           0  ...         255   \n",
      "10          1965           0         906           0  ...           0   \n",
      "12          1962           0         737           0  ...         140   \n",
      "13          2007         306           0           0  ...         160   \n",
      "14          1960         212         733           0  ...           0   \n",
      "16          1970         180         578           0  ...           0   \n",
      "18          2004           0         646           0  ...           0   \n",
      "19          1965           0         504           0  ...           0   \n",
      "22          2002         281           0           0  ...         171   \n",
      "24          2001           0         188         668  ...         406   \n",
      "25          2007         640           0           0  ...           0   \n",
      "26          2000           0         234         486  ...         222   \n",
      "27          2008         200        1218           0  ...           0   \n",
      "28          1997           0        1277           0  ...         288   \n",
      "\n",
      "    OpenPorchSF  EnclosedPorch  X3SsnPorch  ScreenPorch  PoolArea  MiscVal  \\\n",
      "1             0              0           0            0         0        0   \n",
      "6            57              0           0            0         0        0   \n",
      "10            0              0           0            0         0        0   \n",
      "12            0              0           0          176         0        0   \n",
      "13           33              0           0            0         0        0   \n",
      "14          213            176           0            0         0        0   \n",
      "16            0              0           0            0         0      700   \n",
      "18          102              0           0            0         0        0   \n",
      "19            0              0           0            0         0        0   \n",
      "22          159              0           0            0         0        0   \n",
      "24           90              0           0            0         0        0   \n",
      "25           56              0           0            0         0        0   \n",
      "26           32              0           0            0         0        0   \n",
      "27           50              0           0            0         0        0   \n",
      "28          258              0           0            0         0        0   \n",
      "\n",
      "    MoSold  YrSold  HousePrice  \n",
      "1        5    2007           1  \n",
      "6        8    2007           1  \n",
      "10       2    2008           0  \n",
      "12       9    2008           0  \n",
      "13       8    2007           1  \n",
      "14       5    2008           0  \n",
      "16       3    2010           0  \n",
      "18       6    2008           0  \n",
      "19       5    2009           0  \n",
      "22       9    2008           1  \n",
      "24       5    2010           0  \n",
      "25       7    2009           1  \n",
      "26       5    2010           0  \n",
      "27       5    2010           1  \n",
      "28      12    2006           1  \n",
      "\n",
      "[15 rows x 37 columns]\n",
      "------------------------\n",
      "subset.shape 15\n",
      "prob: 0.5\n",
      "result: 0.488741958381368\n",
      "Column: LotFrontage\n",
      "Values [ 65.    80.    68.    60.    84.    85.    75.    89.59  51.    50.\n",
      "  70.    76.14  91.    82.42  73.56  72.    66.   101.    57.    44.\n",
      "  73.06 110.    98.    47.  ]\n",
      "subset:    MSSubClass  LotFrontage  LotArea  OverallQual  OverallCond  YearBuilt  \\\n",
      "0          60         65.0     8450            7            5       2003   \n",
      "\n",
      "   YearRemodAdd  MasVnrArea  BsmtFinSF1  BsmtFinSF2  ...  WoodDeckSF  \\\n",
      "0          2003         196         706           0  ...           0   \n",
      "\n",
      "   OpenPorchSF  EnclosedPorch  X3SsnPorch  ScreenPorch  PoolArea  MiscVal  \\\n",
      "0           61              0           0            0         0        0   \n",
      "\n",
      "   MoSold  YrSold  HousePrice  \n",
      "0       2    2008           1  \n",
      "\n",
      "[1 rows x 37 columns]\n",
      "------------------------\n",
      "subset.shape 1\n",
      "prob: 0.03333333333333333\n",
      "subset:    MSSubClass  LotFrontage  LotArea  OverallQual  OverallCond  YearBuilt  \\\n",
      "1          20         80.0     9600            6            8       1976   \n",
      "\n",
      "   YearRemodAdd  MasVnrArea  BsmtFinSF1  BsmtFinSF2  ...  WoodDeckSF  \\\n",
      "1          1976           0         978           0  ...         298   \n",
      "\n",
      "   OpenPorchSF  EnclosedPorch  X3SsnPorch  ScreenPorch  PoolArea  MiscVal  \\\n",
      "1            0              0           0            0         0        0   \n",
      "\n",
      "   MoSold  YrSold  HousePrice  \n",
      "1       5    2007           1  \n",
      "\n",
      "[1 rows x 37 columns]\n",
      "------------------------\n",
      "subset.shape 1\n",
      "prob: 0.03333333333333333\n",
      "result: 0.9871377743721863\n",
      "Column: LotArea\n",
      "Values [ 8450  9600 11250  9550 14260 14115 10084 10382  6120  7420 11200 11924\n",
      " 12968 10652 10920 11241 10791 13695  7560 14215  7449  9742  4224  8246\n",
      " 14230  7200 11478 16321  6324]\n",
      "subset:    MSSubClass  LotFrontage  LotArea  OverallQual  OverallCond  YearBuilt  \\\n",
      "0          60         65.0     8450            7            5       2003   \n",
      "\n",
      "   YearRemodAdd  MasVnrArea  BsmtFinSF1  BsmtFinSF2  ...  WoodDeckSF  \\\n",
      "0          2003         196         706           0  ...           0   \n",
      "\n",
      "   OpenPorchSF  EnclosedPorch  X3SsnPorch  ScreenPorch  PoolArea  MiscVal  \\\n",
      "0           61              0           0            0         0        0   \n",
      "\n",
      "   MoSold  YrSold  HousePrice  \n",
      "0       2    2008           1  \n",
      "\n",
      "[1 rows x 37 columns]\n",
      "------------------------\n",
      "subset.shape 1\n",
      "prob: 0.03333333333333333\n",
      "subset:    MSSubClass  LotFrontage  LotArea  OverallQual  OverallCond  YearBuilt  \\\n",
      "1          20         80.0     9600            6            8       1976   \n",
      "\n",
      "   YearRemodAdd  MasVnrArea  BsmtFinSF1  BsmtFinSF2  ...  WoodDeckSF  \\\n",
      "1          1976           0         978           0  ...         298   \n",
      "\n",
      "   OpenPorchSF  EnclosedPorch  X3SsnPorch  ScreenPorch  PoolArea  MiscVal  \\\n",
      "1            0              0           0            0         0        0   \n",
      "\n",
      "   MoSold  YrSold  HousePrice  \n",
      "1       5    2007           1  \n",
      "\n",
      "[1 rows x 37 columns]\n",
      "------------------------\n",
      "subset.shape 1\n",
      "prob: 0.03333333333333333\n",
      "result: 0.9871377743721863\n",
      "Column: OverallQual\n",
      "Values [7 6 8 5 9 4]\n",
      "subset:     MSSubClass  LotFrontage  LotArea  OverallQual  OverallCond  YearBuilt  \\\n",
      "0           60        65.00     8450            7            5       2003   \n",
      "2           60        68.00    11250            7            5       2001   \n",
      "3           70        60.00     9550            7            5       1915   \n",
      "7           60        89.59    10382            7            6       1973   \n",
      "8           50        51.00     6120            7            5       1931   \n",
      "13          20        91.00    10652            7            5       2006   \n",
      "15          45        51.00     6120            7            8       1929   \n",
      "21          45        57.00     7449            7            7       1930   \n",
      "\n",
      "    YearRemodAdd  MasVnrArea  BsmtFinSF1  BsmtFinSF2  ...  WoodDeckSF  \\\n",
      "0           2003         196         706           0  ...           0   \n",
      "2           2002         162         486           0  ...           0   \n",
      "3           1970           0         216           0  ...           0   \n",
      "7           1973         240         859          32  ...         235   \n",
      "8           1950           0           0           0  ...          90   \n",
      "13          2007         306           0           0  ...         160   \n",
      "15          2001           0           0           0  ...          48   \n",
      "21          1950           0           0           0  ...           0   \n",
      "\n",
      "    OpenPorchSF  EnclosedPorch  X3SsnPorch  ScreenPorch  PoolArea  MiscVal  \\\n",
      "0            61              0           0            0         0        0   \n",
      "2            42              0           0            0         0        0   \n",
      "3            35            272           0            0         0        0   \n",
      "7           204            228           0            0         0      350   \n",
      "8             0            205           0            0         0        0   \n",
      "13           33              0           0            0         0        0   \n",
      "15          112              0           0            0         0        0   \n",
      "21            0            205           0            0         0        0   \n",
      "\n",
      "    MoSold  YrSold  HousePrice  \n",
      "0        2    2008           1  \n",
      "2        9    2008           1  \n",
      "3        2    2006           0  \n",
      "7       11    2009           1  \n",
      "8        4    2008           0  \n",
      "13       8    2007           1  \n",
      "15       7    2007           0  \n",
      "21       6    2007           0  \n",
      "\n",
      "[8 rows x 37 columns]\n",
      "------------------------\n",
      "subset.shape 8\n",
      "prob: 0.26666666666666666\n",
      "subset:     MSSubClass  LotFrontage  LotArea  OverallQual  OverallCond  YearBuilt  \\\n",
      "1           20        80.00     9600            6            8       1976   \n",
      "14          20        82.42    10920            6            5       1960   \n",
      "16          20        73.56    11241            6            7       1970   \n",
      "\n",
      "    YearRemodAdd  MasVnrArea  BsmtFinSF1  BsmtFinSF2  ...  WoodDeckSF  \\\n",
      "1           1976           0         978           0  ...         298   \n",
      "14          1960         212         733           0  ...           0   \n",
      "16          1970         180         578           0  ...           0   \n",
      "\n",
      "    OpenPorchSF  EnclosedPorch  X3SsnPorch  ScreenPorch  PoolArea  MiscVal  \\\n",
      "1             0              0           0            0         0        0   \n",
      "14          213            176           0            0         0        0   \n",
      "16            0              0           0            0         0      700   \n",
      "\n",
      "    MoSold  YrSold  HousePrice  \n",
      "1        5    2007           1  \n",
      "14       5    2008           0  \n",
      "16       3    2010           0  \n",
      "\n",
      "[3 rows x 37 columns]\n",
      "------------------------\n",
      "subset.shape 3\n",
      "prob: 0.1\n",
      "result: 0.6286415243000707\n",
      "Column: OverallCond\n",
      "Values [5 8 6 7]\n",
      "subset:     MSSubClass  LotFrontage  LotArea  OverallQual  OverallCond  YearBuilt  \\\n",
      "0           60        65.00     8450            7            5       2003   \n",
      "2           60        68.00    11250            7            5       2001   \n",
      "3           70        60.00     9550            7            5       1915   \n",
      "4           60        84.00    14260            8            5       2000   \n",
      "5           50        85.00    14115            5            5       1993   \n",
      "6           20        75.00    10084            8            5       2004   \n",
      "8           50        51.00     6120            7            5       1931   \n",
      "10          20        70.00    11200            5            5       1965   \n",
      "11          60        85.00    11924            9            5       2005   \n",
      "13          20        91.00    10652            7            5       2006   \n",
      "14          20        82.42    10920            6            5       1960   \n",
      "17          90        72.00    10791            4            5       1967   \n",
      "18          20        66.00    13695            5            5       2004   \n",
      "20          60       101.00    14215            8            5       2005   \n",
      "22          20        75.00     9742            8            5       2002   \n",
      "25          20       110.00    14230            8            5       2007   \n",
      "27          20        98.00    11478            8            5       2007   \n",
      "\n",
      "    YearRemodAdd  MasVnrArea  BsmtFinSF1  BsmtFinSF2  ...  WoodDeckSF  \\\n",
      "0           2003         196         706           0  ...           0   \n",
      "2           2002         162         486           0  ...           0   \n",
      "3           1970           0         216           0  ...           0   \n",
      "4           2000         350         655           0  ...         192   \n",
      "5           1995           0         732           0  ...          40   \n",
      "6           2005         186        1369           0  ...         255   \n",
      "8           1950           0           0           0  ...          90   \n",
      "10          1965           0         906           0  ...           0   \n",
      "11          2006         286         998           0  ...         147   \n",
      "13          2007         306           0           0  ...         160   \n",
      "14          1960         212         733           0  ...           0   \n",
      "17          1967           0           0           0  ...           0   \n",
      "18          2004           0         646           0  ...           0   \n",
      "20          2006         380           0           0  ...         240   \n",
      "22          2002         281           0           0  ...         171   \n",
      "25          2007         640           0           0  ...           0   \n",
      "27          2008         200        1218           0  ...           0   \n",
      "\n",
      "    OpenPorchSF  EnclosedPorch  X3SsnPorch  ScreenPorch  PoolArea  MiscVal  \\\n",
      "0            61              0           0            0         0        0   \n",
      "2            42              0           0            0         0        0   \n",
      "3            35            272           0            0         0        0   \n",
      "4            84              0           0            0         0        0   \n",
      "5            30              0         320            0         0      700   \n",
      "6            57              0           0            0         0        0   \n",
      "8             0            205           0            0         0        0   \n",
      "10            0              0           0            0         0        0   \n",
      "11           21              0           0            0         0        0   \n",
      "13           33              0           0            0         0        0   \n",
      "14          213            176           0            0         0        0   \n",
      "17            0              0           0            0         0      500   \n",
      "18          102              0           0            0         0        0   \n",
      "20          154              0           0            0         0        0   \n",
      "22          159              0           0            0         0        0   \n",
      "25           56              0           0            0         0        0   \n",
      "27           50              0           0            0         0        0   \n",
      "\n",
      "    MoSold  YrSold  HousePrice  \n",
      "0        2    2008           1  \n",
      "2        9    2008           1  \n",
      "3        2    2006           0  \n",
      "4       12    2008           1  \n",
      "5       10    2009           0  \n",
      "6        8    2007           1  \n",
      "8        4    2008           0  \n",
      "10       2    2008           0  \n",
      "11       7    2006           1  \n",
      "13       8    2007           1  \n",
      "14       5    2008           0  \n",
      "17      10    2006           0  \n",
      "18       6    2008           0  \n",
      "20      11    2006           1  \n",
      "22       9    2008           1  \n",
      "25       7    2009           1  \n",
      "27       5    2010           1  \n",
      "\n",
      "[17 rows x 37 columns]\n",
      "------------------------\n",
      "subset.shape 17\n",
      "prob: 0.5666666666666667\n",
      "subset:     MSSubClass  LotFrontage  LotArea  OverallQual  OverallCond  YearBuilt  \\\n",
      "1           20        80.00     9600            6            8       1976   \n",
      "15          45        51.00     6120            7            8       1929   \n",
      "24          20        73.06     8246            5            8       1968   \n",
      "\n",
      "    YearRemodAdd  MasVnrArea  BsmtFinSF1  BsmtFinSF2  ...  WoodDeckSF  \\\n",
      "1           1976           0         978           0  ...         298   \n",
      "15          2001           0           0           0  ...          48   \n",
      "24          2001           0         188         668  ...         406   \n",
      "\n",
      "    OpenPorchSF  EnclosedPorch  X3SsnPorch  ScreenPorch  PoolArea  MiscVal  \\\n",
      "1             0              0           0            0         0        0   \n",
      "15          112              0           0            0         0        0   \n",
      "24           90              0           0            0         0        0   \n",
      "\n",
      "    MoSold  YrSold  HousePrice  \n",
      "1        5    2007           1  \n",
      "15       7    2007           0  \n",
      "24       5    2010           0  \n",
      "\n",
      "[3 rows x 37 columns]\n",
      "------------------------\n",
      "subset.shape 3\n",
      "prob: 0.1\n",
      "result: 0.3414380943674401\n",
      "Print ALL - ig: {'MSSubClass': 0.488741958381368, 'LotFrontage': 0.9871377743721863, 'LotArea': 0.9871377743721863, 'OverallQual': 0.6286415243000707, 'OverallCond': 0.3414380943674401}\n",
      "0.9871377743721863\n",
      "LotFrontage\n",
      "LotFrontage\n"
     ]
    }
   ],
   "source": [
    "import numpy as np\n",
    "import math\n",
    "\n",
    "def calc_entropy(column):\n",
    "    counts = np.bincount(column)\n",
    "    probabilities = counts / len(column)\n",
    "    # print('here2 ' + str(counts))\n",
    "    # print('here1 ' + str(probabilities))\n",
    "    entropy = 0\n",
    "    for prob in probabilities:\n",
    "        if prob > 0:\n",
    "            entropy += prob * math.log(prob, 2)\n",
    "    return -entropy\n",
    "\n",
    "def calc_information_gain(data, split_name, target_name):\n",
    "    original_entropy = calc_entropy(data[target_name])\n",
    "    values = data[split_name].unique()\n",
    "    left_split = data[data[split_name] == values[0]]\n",
    "    right_split = data[data[split_name] == values[1]]\n",
    "    to_subtract = 0\n",
    "\n",
    "    # print('Original_entropy ' + str(original_entropy))\n",
    "    print('Values ' + str(values))\n",
    "    # print('Left_split' + str(left_split))\n",
    "    # print('Right_split' + str(right_split))\n",
    "\n",
    "    for subset in [left_split, right_split]:\n",
    "        prob = (subset.shape[0] / data.shape[0])\n",
    "        print('subset: ' + str(subset))\n",
    "        print('------------------------')\n",
    "        print('subset.shape ' + str(subset.shape[0]))\n",
    "        print('prob: ' + str(prob))\n",
    "        to_subtract += prob * calc_entropy(subset[target_name])\n",
    "\n",
    "    print('result: ' + str(original_entropy - to_subtract))\n",
    "    return original_entropy - to_subtract\n",
    "\n",
    "def highest_info_gain(columns):\n",
    "  information_gains = {}\n",
    "  for col in columns:\n",
    "    print('Column: ' + str(col))\n",
    "    information_gain = calc_information_gain(df, col, 'HousePrice')\n",
    "    # print('HERE ! - ' + str(information_gain))\n",
    "    information_gains[col] = information_gain\n",
    "\n",
    "  print('Print ALL - ig: ' + str(information_gains))\n",
    "  max_ans = -1\n",
    "  index_ans = 0\n",
    "  for ans in information_gains:\n",
    "      if max_ans < information_gains[ans]:\n",
    "          max_ans = information_gains[ans]\n",
    "          index_ans = ans\n",
    "\n",
    "  print(max_ans)\n",
    "  print(index_ans)\n",
    "  # return information_gains[index_ans]\n",
    "  return max(information_gains, key=information_gains.get)\n",
    "\n",
    "print(highest_info_gain(columns_values))"
   ],
   "metadata": {
    "collapsed": false
   }
  },
  {
   "cell_type": "code",
   "execution_count": 984,
   "outputs": [
    {
     "data": {
      "text/plain": "    MSSubClass  LotFrontage  LotArea  OverallQual  OverallCond  YearBuilt  \\\n0           60        65.00     8450            7            5       2003   \n1           20        80.00     9600            6            8       1976   \n2           60        68.00    11250            7            5       2001   \n3           70        60.00     9550            7            5       1915   \n4           60        84.00    14260            8            5       2000   \n5           50        85.00    14115            5            5       1993   \n6           20        75.00    10084            8            5       2004   \n7           60        89.59    10382            7            6       1973   \n8           50        51.00     6120            7            5       1931   \n9          190        50.00     7420            5            6       1939   \n10          20        70.00    11200            5            5       1965   \n11          60        85.00    11924            9            5       2005   \n12          20        76.14    12968            5            6       1962   \n13          20        91.00    10652            7            5       2006   \n14          20        82.42    10920            6            5       1960   \n15          45        51.00     6120            7            8       1929   \n16          20        73.56    11241            6            7       1970   \n17          90        72.00    10791            4            5       1967   \n18          20        66.00    13695            5            5       2004   \n19          20        70.00     7560            5            6       1958   \n20          60       101.00    14215            8            5       2005   \n21          45        57.00     7449            7            7       1930   \n22          20        75.00     9742            8            5       2002   \n23         120        44.00     4224            5            7       1976   \n24          20        73.06     8246            5            8       1968   \n25          20       110.00    14230            8            5       2007   \n26          20        60.00     7200            5            7       1951   \n27          20        98.00    11478            8            5       2007   \n28          20        47.00    16321            5            6       1957   \n29          30        60.00     6324            4            6       1927   \n\n    YearRemodAdd  MasVnrArea  BsmtFinSF1  BsmtFinSF2  ...  WoodDeckSF  \\\n0           2003         196         706           0  ...           0   \n1           1976           0         978           0  ...         298   \n2           2002         162         486           0  ...           0   \n3           1970           0         216           0  ...           0   \n4           2000         350         655           0  ...         192   \n5           1995           0         732           0  ...          40   \n6           2005         186        1369           0  ...         255   \n7           1973         240         859          32  ...         235   \n8           1950           0           0           0  ...          90   \n9           1950           0         851           0  ...           0   \n10          1965           0         906           0  ...           0   \n11          2006         286         998           0  ...         147   \n12          1962           0         737           0  ...         140   \n13          2007         306           0           0  ...         160   \n14          1960         212         733           0  ...           0   \n15          2001           0           0           0  ...          48   \n16          1970         180         578           0  ...           0   \n17          1967           0           0           0  ...           0   \n18          2004           0         646           0  ...           0   \n19          1965           0         504           0  ...           0   \n20          2006         380           0           0  ...         240   \n21          1950           0           0           0  ...           0   \n22          2002         281           0           0  ...         171   \n23          1976           0         840           0  ...         100   \n24          2001           0         188         668  ...         406   \n25          2007         640           0           0  ...           0   \n26          2000           0         234         486  ...         222   \n27          2008         200        1218           0  ...           0   \n28          1997           0        1277           0  ...         288   \n29          1950           0           0           0  ...          49   \n\n    OpenPorchSF  EnclosedPorch  X3SsnPorch  ScreenPorch  PoolArea  MiscVal  \\\n0            61              0           0            0         0        0   \n1             0              0           0            0         0        0   \n2            42              0           0            0         0        0   \n3            35            272           0            0         0        0   \n4            84              0           0            0         0        0   \n5            30              0         320            0         0      700   \n6            57              0           0            0         0        0   \n7           204            228           0            0         0      350   \n8             0            205           0            0         0        0   \n9             4              0           0            0         0        0   \n10            0              0           0            0         0        0   \n11           21              0           0            0         0        0   \n12            0              0           0          176         0        0   \n13           33              0           0            0         0        0   \n14          213            176           0            0         0        0   \n15          112              0           0            0         0        0   \n16            0              0           0            0         0      700   \n17            0              0           0            0         0      500   \n18          102              0           0            0         0        0   \n19            0              0           0            0         0        0   \n20          154              0           0            0         0        0   \n21            0            205           0            0         0        0   \n22          159              0           0            0         0        0   \n23          110              0           0            0         0        0   \n24           90              0           0            0         0        0   \n25           56              0           0            0         0        0   \n26           32              0           0            0         0        0   \n27           50              0           0            0         0        0   \n28          258              0           0            0         0        0   \n29            0             87           0            0         0        0   \n\n    MoSold  YrSold  HousePrice  \n0        2    2008           1  \n1        5    2007           1  \n2        9    2008           1  \n3        2    2006           0  \n4       12    2008           1  \n5       10    2009           0  \n6        8    2007           1  \n7       11    2009           1  \n8        4    2008           0  \n9        1    2008           0  \n10       2    2008           0  \n11       7    2006           1  \n12       9    2008           0  \n13       8    2007           1  \n14       5    2008           0  \n15       7    2007           0  \n16       3    2010           0  \n17      10    2006           0  \n18       6    2008           0  \n19       5    2009           0  \n20      11    2006           1  \n21       6    2007           0  \n22       9    2008           1  \n23       6    2007           0  \n24       5    2010           0  \n25       7    2009           1  \n26       5    2010           0  \n27       5    2010           1  \n28      12    2006           1  \n29       5    2008           0  \n\n[30 rows x 37 columns]",
      "text/html": "<div>\n<style scoped>\n    .dataframe tbody tr th:only-of-type {\n        vertical-align: middle;\n    }\n\n    .dataframe tbody tr th {\n        vertical-align: top;\n    }\n\n    .dataframe thead th {\n        text-align: right;\n    }\n</style>\n<table border=\"1\" class=\"dataframe\">\n  <thead>\n    <tr style=\"text-align: right;\">\n      <th></th>\n      <th>MSSubClass</th>\n      <th>LotFrontage</th>\n      <th>LotArea</th>\n      <th>OverallQual</th>\n      <th>OverallCond</th>\n      <th>YearBuilt</th>\n      <th>YearRemodAdd</th>\n      <th>MasVnrArea</th>\n      <th>BsmtFinSF1</th>\n      <th>BsmtFinSF2</th>\n      <th>...</th>\n      <th>WoodDeckSF</th>\n      <th>OpenPorchSF</th>\n      <th>EnclosedPorch</th>\n      <th>X3SsnPorch</th>\n      <th>ScreenPorch</th>\n      <th>PoolArea</th>\n      <th>MiscVal</th>\n      <th>MoSold</th>\n      <th>YrSold</th>\n      <th>HousePrice</th>\n    </tr>\n  </thead>\n  <tbody>\n    <tr>\n      <th>0</th>\n      <td>60</td>\n      <td>65.00</td>\n      <td>8450</td>\n      <td>7</td>\n      <td>5</td>\n      <td>2003</td>\n      <td>2003</td>\n      <td>196</td>\n      <td>706</td>\n      <td>0</td>\n      <td>...</td>\n      <td>0</td>\n      <td>61</td>\n      <td>0</td>\n      <td>0</td>\n      <td>0</td>\n      <td>0</td>\n      <td>0</td>\n      <td>2</td>\n      <td>2008</td>\n      <td>1</td>\n    </tr>\n    <tr>\n      <th>1</th>\n      <td>20</td>\n      <td>80.00</td>\n      <td>9600</td>\n      <td>6</td>\n      <td>8</td>\n      <td>1976</td>\n      <td>1976</td>\n      <td>0</td>\n      <td>978</td>\n      <td>0</td>\n      <td>...</td>\n      <td>298</td>\n      <td>0</td>\n      <td>0</td>\n      <td>0</td>\n      <td>0</td>\n      <td>0</td>\n      <td>0</td>\n      <td>5</td>\n      <td>2007</td>\n      <td>1</td>\n    </tr>\n    <tr>\n      <th>2</th>\n      <td>60</td>\n      <td>68.00</td>\n      <td>11250</td>\n      <td>7</td>\n      <td>5</td>\n      <td>2001</td>\n      <td>2002</td>\n      <td>162</td>\n      <td>486</td>\n      <td>0</td>\n      <td>...</td>\n      <td>0</td>\n      <td>42</td>\n      <td>0</td>\n      <td>0</td>\n      <td>0</td>\n      <td>0</td>\n      <td>0</td>\n      <td>9</td>\n      <td>2008</td>\n      <td>1</td>\n    </tr>\n    <tr>\n      <th>3</th>\n      <td>70</td>\n      <td>60.00</td>\n      <td>9550</td>\n      <td>7</td>\n      <td>5</td>\n      <td>1915</td>\n      <td>1970</td>\n      <td>0</td>\n      <td>216</td>\n      <td>0</td>\n      <td>...</td>\n      <td>0</td>\n      <td>35</td>\n      <td>272</td>\n      <td>0</td>\n      <td>0</td>\n      <td>0</td>\n      <td>0</td>\n      <td>2</td>\n      <td>2006</td>\n      <td>0</td>\n    </tr>\n    <tr>\n      <th>4</th>\n      <td>60</td>\n      <td>84.00</td>\n      <td>14260</td>\n      <td>8</td>\n      <td>5</td>\n      <td>2000</td>\n      <td>2000</td>\n      <td>350</td>\n      <td>655</td>\n      <td>0</td>\n      <td>...</td>\n      <td>192</td>\n      <td>84</td>\n      <td>0</td>\n      <td>0</td>\n      <td>0</td>\n      <td>0</td>\n      <td>0</td>\n      <td>12</td>\n      <td>2008</td>\n      <td>1</td>\n    </tr>\n    <tr>\n      <th>5</th>\n      <td>50</td>\n      <td>85.00</td>\n      <td>14115</td>\n      <td>5</td>\n      <td>5</td>\n      <td>1993</td>\n      <td>1995</td>\n      <td>0</td>\n      <td>732</td>\n      <td>0</td>\n      <td>...</td>\n      <td>40</td>\n      <td>30</td>\n      <td>0</td>\n      <td>320</td>\n      <td>0</td>\n      <td>0</td>\n      <td>700</td>\n      <td>10</td>\n      <td>2009</td>\n      <td>0</td>\n    </tr>\n    <tr>\n      <th>6</th>\n      <td>20</td>\n      <td>75.00</td>\n      <td>10084</td>\n      <td>8</td>\n      <td>5</td>\n      <td>2004</td>\n      <td>2005</td>\n      <td>186</td>\n      <td>1369</td>\n      <td>0</td>\n      <td>...</td>\n      <td>255</td>\n      <td>57</td>\n      <td>0</td>\n      <td>0</td>\n      <td>0</td>\n      <td>0</td>\n      <td>0</td>\n      <td>8</td>\n      <td>2007</td>\n      <td>1</td>\n    </tr>\n    <tr>\n      <th>7</th>\n      <td>60</td>\n      <td>89.59</td>\n      <td>10382</td>\n      <td>7</td>\n      <td>6</td>\n      <td>1973</td>\n      <td>1973</td>\n      <td>240</td>\n      <td>859</td>\n      <td>32</td>\n      <td>...</td>\n      <td>235</td>\n      <td>204</td>\n      <td>228</td>\n      <td>0</td>\n      <td>0</td>\n      <td>0</td>\n      <td>350</td>\n      <td>11</td>\n      <td>2009</td>\n      <td>1</td>\n    </tr>\n    <tr>\n      <th>8</th>\n      <td>50</td>\n      <td>51.00</td>\n      <td>6120</td>\n      <td>7</td>\n      <td>5</td>\n      <td>1931</td>\n      <td>1950</td>\n      <td>0</td>\n      <td>0</td>\n      <td>0</td>\n      <td>...</td>\n      <td>90</td>\n      <td>0</td>\n      <td>205</td>\n      <td>0</td>\n      <td>0</td>\n      <td>0</td>\n      <td>0</td>\n      <td>4</td>\n      <td>2008</td>\n      <td>0</td>\n    </tr>\n    <tr>\n      <th>9</th>\n      <td>190</td>\n      <td>50.00</td>\n      <td>7420</td>\n      <td>5</td>\n      <td>6</td>\n      <td>1939</td>\n      <td>1950</td>\n      <td>0</td>\n      <td>851</td>\n      <td>0</td>\n      <td>...</td>\n      <td>0</td>\n      <td>4</td>\n      <td>0</td>\n      <td>0</td>\n      <td>0</td>\n      <td>0</td>\n      <td>0</td>\n      <td>1</td>\n      <td>2008</td>\n      <td>0</td>\n    </tr>\n    <tr>\n      <th>10</th>\n      <td>20</td>\n      <td>70.00</td>\n      <td>11200</td>\n      <td>5</td>\n      <td>5</td>\n      <td>1965</td>\n      <td>1965</td>\n      <td>0</td>\n      <td>906</td>\n      <td>0</td>\n      <td>...</td>\n      <td>0</td>\n      <td>0</td>\n      <td>0</td>\n      <td>0</td>\n      <td>0</td>\n      <td>0</td>\n      <td>0</td>\n      <td>2</td>\n      <td>2008</td>\n      <td>0</td>\n    </tr>\n    <tr>\n      <th>11</th>\n      <td>60</td>\n      <td>85.00</td>\n      <td>11924</td>\n      <td>9</td>\n      <td>5</td>\n      <td>2005</td>\n      <td>2006</td>\n      <td>286</td>\n      <td>998</td>\n      <td>0</td>\n      <td>...</td>\n      <td>147</td>\n      <td>21</td>\n      <td>0</td>\n      <td>0</td>\n      <td>0</td>\n      <td>0</td>\n      <td>0</td>\n      <td>7</td>\n      <td>2006</td>\n      <td>1</td>\n    </tr>\n    <tr>\n      <th>12</th>\n      <td>20</td>\n      <td>76.14</td>\n      <td>12968</td>\n      <td>5</td>\n      <td>6</td>\n      <td>1962</td>\n      <td>1962</td>\n      <td>0</td>\n      <td>737</td>\n      <td>0</td>\n      <td>...</td>\n      <td>140</td>\n      <td>0</td>\n      <td>0</td>\n      <td>0</td>\n      <td>176</td>\n      <td>0</td>\n      <td>0</td>\n      <td>9</td>\n      <td>2008</td>\n      <td>0</td>\n    </tr>\n    <tr>\n      <th>13</th>\n      <td>20</td>\n      <td>91.00</td>\n      <td>10652</td>\n      <td>7</td>\n      <td>5</td>\n      <td>2006</td>\n      <td>2007</td>\n      <td>306</td>\n      <td>0</td>\n      <td>0</td>\n      <td>...</td>\n      <td>160</td>\n      <td>33</td>\n      <td>0</td>\n      <td>0</td>\n      <td>0</td>\n      <td>0</td>\n      <td>0</td>\n      <td>8</td>\n      <td>2007</td>\n      <td>1</td>\n    </tr>\n    <tr>\n      <th>14</th>\n      <td>20</td>\n      <td>82.42</td>\n      <td>10920</td>\n      <td>6</td>\n      <td>5</td>\n      <td>1960</td>\n      <td>1960</td>\n      <td>212</td>\n      <td>733</td>\n      <td>0</td>\n      <td>...</td>\n      <td>0</td>\n      <td>213</td>\n      <td>176</td>\n      <td>0</td>\n      <td>0</td>\n      <td>0</td>\n      <td>0</td>\n      <td>5</td>\n      <td>2008</td>\n      <td>0</td>\n    </tr>\n    <tr>\n      <th>15</th>\n      <td>45</td>\n      <td>51.00</td>\n      <td>6120</td>\n      <td>7</td>\n      <td>8</td>\n      <td>1929</td>\n      <td>2001</td>\n      <td>0</td>\n      <td>0</td>\n      <td>0</td>\n      <td>...</td>\n      <td>48</td>\n      <td>112</td>\n      <td>0</td>\n      <td>0</td>\n      <td>0</td>\n      <td>0</td>\n      <td>0</td>\n      <td>7</td>\n      <td>2007</td>\n      <td>0</td>\n    </tr>\n    <tr>\n      <th>16</th>\n      <td>20</td>\n      <td>73.56</td>\n      <td>11241</td>\n      <td>6</td>\n      <td>7</td>\n      <td>1970</td>\n      <td>1970</td>\n      <td>180</td>\n      <td>578</td>\n      <td>0</td>\n      <td>...</td>\n      <td>0</td>\n      <td>0</td>\n      <td>0</td>\n      <td>0</td>\n      <td>0</td>\n      <td>0</td>\n      <td>700</td>\n      <td>3</td>\n      <td>2010</td>\n      <td>0</td>\n    </tr>\n    <tr>\n      <th>17</th>\n      <td>90</td>\n      <td>72.00</td>\n      <td>10791</td>\n      <td>4</td>\n      <td>5</td>\n      <td>1967</td>\n      <td>1967</td>\n      <td>0</td>\n      <td>0</td>\n      <td>0</td>\n      <td>...</td>\n      <td>0</td>\n      <td>0</td>\n      <td>0</td>\n      <td>0</td>\n      <td>0</td>\n      <td>0</td>\n      <td>500</td>\n      <td>10</td>\n      <td>2006</td>\n      <td>0</td>\n    </tr>\n    <tr>\n      <th>18</th>\n      <td>20</td>\n      <td>66.00</td>\n      <td>13695</td>\n      <td>5</td>\n      <td>5</td>\n      <td>2004</td>\n      <td>2004</td>\n      <td>0</td>\n      <td>646</td>\n      <td>0</td>\n      <td>...</td>\n      <td>0</td>\n      <td>102</td>\n      <td>0</td>\n      <td>0</td>\n      <td>0</td>\n      <td>0</td>\n      <td>0</td>\n      <td>6</td>\n      <td>2008</td>\n      <td>0</td>\n    </tr>\n    <tr>\n      <th>19</th>\n      <td>20</td>\n      <td>70.00</td>\n      <td>7560</td>\n      <td>5</td>\n      <td>6</td>\n      <td>1958</td>\n      <td>1965</td>\n      <td>0</td>\n      <td>504</td>\n      <td>0</td>\n      <td>...</td>\n      <td>0</td>\n      <td>0</td>\n      <td>0</td>\n      <td>0</td>\n      <td>0</td>\n      <td>0</td>\n      <td>0</td>\n      <td>5</td>\n      <td>2009</td>\n      <td>0</td>\n    </tr>\n    <tr>\n      <th>20</th>\n      <td>60</td>\n      <td>101.00</td>\n      <td>14215</td>\n      <td>8</td>\n      <td>5</td>\n      <td>2005</td>\n      <td>2006</td>\n      <td>380</td>\n      <td>0</td>\n      <td>0</td>\n      <td>...</td>\n      <td>240</td>\n      <td>154</td>\n      <td>0</td>\n      <td>0</td>\n      <td>0</td>\n      <td>0</td>\n      <td>0</td>\n      <td>11</td>\n      <td>2006</td>\n      <td>1</td>\n    </tr>\n    <tr>\n      <th>21</th>\n      <td>45</td>\n      <td>57.00</td>\n      <td>7449</td>\n      <td>7</td>\n      <td>7</td>\n      <td>1930</td>\n      <td>1950</td>\n      <td>0</td>\n      <td>0</td>\n      <td>0</td>\n      <td>...</td>\n      <td>0</td>\n      <td>0</td>\n      <td>205</td>\n      <td>0</td>\n      <td>0</td>\n      <td>0</td>\n      <td>0</td>\n      <td>6</td>\n      <td>2007</td>\n      <td>0</td>\n    </tr>\n    <tr>\n      <th>22</th>\n      <td>20</td>\n      <td>75.00</td>\n      <td>9742</td>\n      <td>8</td>\n      <td>5</td>\n      <td>2002</td>\n      <td>2002</td>\n      <td>281</td>\n      <td>0</td>\n      <td>0</td>\n      <td>...</td>\n      <td>171</td>\n      <td>159</td>\n      <td>0</td>\n      <td>0</td>\n      <td>0</td>\n      <td>0</td>\n      <td>0</td>\n      <td>9</td>\n      <td>2008</td>\n      <td>1</td>\n    </tr>\n    <tr>\n      <th>23</th>\n      <td>120</td>\n      <td>44.00</td>\n      <td>4224</td>\n      <td>5</td>\n      <td>7</td>\n      <td>1976</td>\n      <td>1976</td>\n      <td>0</td>\n      <td>840</td>\n      <td>0</td>\n      <td>...</td>\n      <td>100</td>\n      <td>110</td>\n      <td>0</td>\n      <td>0</td>\n      <td>0</td>\n      <td>0</td>\n      <td>0</td>\n      <td>6</td>\n      <td>2007</td>\n      <td>0</td>\n    </tr>\n    <tr>\n      <th>24</th>\n      <td>20</td>\n      <td>73.06</td>\n      <td>8246</td>\n      <td>5</td>\n      <td>8</td>\n      <td>1968</td>\n      <td>2001</td>\n      <td>0</td>\n      <td>188</td>\n      <td>668</td>\n      <td>...</td>\n      <td>406</td>\n      <td>90</td>\n      <td>0</td>\n      <td>0</td>\n      <td>0</td>\n      <td>0</td>\n      <td>0</td>\n      <td>5</td>\n      <td>2010</td>\n      <td>0</td>\n    </tr>\n    <tr>\n      <th>25</th>\n      <td>20</td>\n      <td>110.00</td>\n      <td>14230</td>\n      <td>8</td>\n      <td>5</td>\n      <td>2007</td>\n      <td>2007</td>\n      <td>640</td>\n      <td>0</td>\n      <td>0</td>\n      <td>...</td>\n      <td>0</td>\n      <td>56</td>\n      <td>0</td>\n      <td>0</td>\n      <td>0</td>\n      <td>0</td>\n      <td>0</td>\n      <td>7</td>\n      <td>2009</td>\n      <td>1</td>\n    </tr>\n    <tr>\n      <th>26</th>\n      <td>20</td>\n      <td>60.00</td>\n      <td>7200</td>\n      <td>5</td>\n      <td>7</td>\n      <td>1951</td>\n      <td>2000</td>\n      <td>0</td>\n      <td>234</td>\n      <td>486</td>\n      <td>...</td>\n      <td>222</td>\n      <td>32</td>\n      <td>0</td>\n      <td>0</td>\n      <td>0</td>\n      <td>0</td>\n      <td>0</td>\n      <td>5</td>\n      <td>2010</td>\n      <td>0</td>\n    </tr>\n    <tr>\n      <th>27</th>\n      <td>20</td>\n      <td>98.00</td>\n      <td>11478</td>\n      <td>8</td>\n      <td>5</td>\n      <td>2007</td>\n      <td>2008</td>\n      <td>200</td>\n      <td>1218</td>\n      <td>0</td>\n      <td>...</td>\n      <td>0</td>\n      <td>50</td>\n      <td>0</td>\n      <td>0</td>\n      <td>0</td>\n      <td>0</td>\n      <td>0</td>\n      <td>5</td>\n      <td>2010</td>\n      <td>1</td>\n    </tr>\n    <tr>\n      <th>28</th>\n      <td>20</td>\n      <td>47.00</td>\n      <td>16321</td>\n      <td>5</td>\n      <td>6</td>\n      <td>1957</td>\n      <td>1997</td>\n      <td>0</td>\n      <td>1277</td>\n      <td>0</td>\n      <td>...</td>\n      <td>288</td>\n      <td>258</td>\n      <td>0</td>\n      <td>0</td>\n      <td>0</td>\n      <td>0</td>\n      <td>0</td>\n      <td>12</td>\n      <td>2006</td>\n      <td>1</td>\n    </tr>\n    <tr>\n      <th>29</th>\n      <td>30</td>\n      <td>60.00</td>\n      <td>6324</td>\n      <td>4</td>\n      <td>6</td>\n      <td>1927</td>\n      <td>1950</td>\n      <td>0</td>\n      <td>0</td>\n      <td>0</td>\n      <td>...</td>\n      <td>49</td>\n      <td>0</td>\n      <td>87</td>\n      <td>0</td>\n      <td>0</td>\n      <td>0</td>\n      <td>0</td>\n      <td>5</td>\n      <td>2008</td>\n      <td>0</td>\n    </tr>\n  </tbody>\n</table>\n<p>30 rows × 37 columns</p>\n</div>"
     },
     "execution_count": 984,
     "metadata": {},
     "output_type": "execute_result"
    }
   ],
   "source": [
    "df"
   ],
   "metadata": {
    "collapsed": false
   }
  },
  {
   "cell_type": "code",
   "execution_count": 984,
   "outputs": [],
   "source": [],
   "metadata": {
    "collapsed": false
   }
  }
 ],
 "metadata": {
  "kernelspec": {
   "display_name": "Python 3",
   "language": "python",
   "name": "python3"
  },
  "language_info": {
   "codemirror_mode": {
    "name": "ipython",
    "version": 2
   },
   "file_extension": ".py",
   "mimetype": "text/x-python",
   "name": "python",
   "nbconvert_exporter": "python",
   "pygments_lexer": "ipython2",
   "version": "2.7.6"
  }
 },
 "nbformat": 4,
 "nbformat_minor": 0
}
