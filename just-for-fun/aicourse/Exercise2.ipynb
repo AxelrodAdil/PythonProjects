{
 "cells": [
  {
   "cell_type": "code",
   "execution_count": 1,
   "metadata": {
    "collapsed": true,
    "pycharm": {
     "name": "#%%\n"
    }
   },
   "outputs": [
    {
     "name": "stdout",
     "output_type": "stream",
     "text": [
      "Hello!\n",
      "1 0 0\n",
      "1.0833333333333333\n",
      "1\n"
     ]
    }
   ],
   "source": [
    "print('Hello!')\n",
    "print(1,000,000)\n",
    "print(65/60)\n",
    "print(65//60)"
   ]
  },
  {
   "cell_type": "code",
   "execution_count": 2,
   "outputs": [
    {
     "name": "stdout",
     "output_type": "stream",
     "text": [
      "Enter your name:\n",
      "Hello 54\n"
     ]
    }
   ],
   "source": [
    "print('Enter your name:')\n",
    "variable = input()\n",
    "print('Hello ' + variable)"
   ],
   "metadata": {
    "collapsed": false,
    "pycharm": {
     "name": "#%%\n"
    }
   }
  },
  {
   "cell_type": "code",
   "execution_count": 3,
   "outputs": [
    {
     "name": "stdout",
     "output_type": "stream",
     "text": [
      "35\n",
      "2.75\n",
      "Pay: 12.0 - 96.25\n"
     ]
    }
   ],
   "source": [
    "# hours = input()\n",
    "# rate = input()\n",
    "hours = 35\n",
    "rate = 2.75\n",
    "print(hours)\n",
    "print(rate)\n",
    "ans = 'Pay: ' + str(hours // rate) + ' - ' + str(hours*rate)\n",
    "print(ans)"
   ],
   "metadata": {
    "collapsed": false,
    "pycharm": {
     "name": "#%%\n"
    }
   }
  },
  {
   "cell_type": "code",
   "execution_count": 4,
   "outputs": [
    {
     "name": "stdout",
     "output_type": "stream",
     "text": [
      "<class 'int'>8\n",
      "<class 'float'>8.5\n",
      "<class 'float'>4.0\n",
      "<class 'int'>11\n"
     ]
    }
   ],
   "source": [
    "width = 17\n",
    "height = 12.0\n",
    "print(str(type(width//2)) + str(width//2))\n",
    "print(str(type(width/2.0)) + str(width/2.0))\n",
    "print(str(type(height/3)) + str(height/3))\n",
    "print(str(type(1+2*5)) + str(1+2*5))"
   ],
   "metadata": {
    "collapsed": false,
    "pycharm": {
     "name": "#%%\n"
    }
   }
  },
  {
   "cell_type": "code",
   "execution_count": 5,
   "outputs": [
    {
     "name": "stdout",
     "output_type": "stream",
     "text": [
      "93.2\n"
     ]
    }
   ],
   "source": [
    "celsius = float(input())\n",
    "fahrenheit = (celsius*1.8)+32\n",
    "print(fahrenheit)"
   ],
   "metadata": {
    "collapsed": false,
    "pycharm": {
     "name": "#%%\n"
    }
   }
  }
 ],
 "metadata": {
  "kernelspec": {
   "display_name": "Python 3",
   "language": "python",
   "name": "python3"
  },
  "language_info": {
   "codemirror_mode": {
    "name": "ipython",
    "version": 2
   },
   "file_extension": ".py",
   "mimetype": "text/x-python",
   "name": "python",
   "nbconvert_exporter": "python",
   "pygments_lexer": "ipython2",
   "version": "2.7.6"
  }
 },
 "nbformat": 4,
 "nbformat_minor": 0
}