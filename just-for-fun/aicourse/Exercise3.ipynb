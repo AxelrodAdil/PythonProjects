{
 "cells": [
  {
   "cell_type": "code",
   "execution_count": 6,
   "metadata": {
    "collapsed": true,
    "pycharm": {
     "name": "#%%\n"
    }
   },
   "outputs": [
    {
     "name": "stdout",
     "output_type": "stream",
     "text": [
      "525.0\n"
     ]
    }
   ],
   "source": [
    "hours = int(input())\n",
    "baseHours = 40\n",
    "rate = 10\n",
    "ans = hours * rate\n",
    "# print(ans)\n",
    "if baseHours < hours:\n",
    "    ans += (hours-baseHours)*(rate*1.5)\n",
    "print(ans)"
   ]
  },
  {
   "cell_type": "code",
   "execution_count": 14,
   "outputs": [
    {
     "name": "stdout",
     "output_type": "stream",
     "text": [
      "Error, please enter numeric input invalid literal for int() with base 10: 'nine'\n",
      "Finally\n"
     ]
    }
   ],
   "source": [
    "try:\n",
    "    hours = int(input())\n",
    "    rate = int(input())\n",
    "except Exception as e:\n",
    "    print('Error, please enter numeric input.', e)\n",
    "finally:\n",
    "    print('Finally')"
   ],
   "metadata": {
    "collapsed": false,
    "pycharm": {
     "name": "#%%\n"
    }
   }
  },
  {
   "cell_type": "code",
   "execution_count": 15,
   "outputs": [
    {
     "name": "stdout",
     "output_type": "stream",
     "text": [
      "Bad score. could not convert string to float: 'perfect'\n"
     ]
    }
   ],
   "source": [
    "try:\n",
    "    inputFloat = float(input())\n",
    "    if inputFloat > 1.0:\n",
    "        raise Exception\n",
    "    if inputFloat < 0.6:\n",
    "        print('F')\n",
    "    elif 0.6 <= inputFloat < 0.7:\n",
    "        print('D')\n",
    "    elif 0.7 <= inputFloat < 0.8:\n",
    "        print('C')\n",
    "    elif 0.8 <= inputFloat < 0.9:\n",
    "        print('B')\n",
    "    else:\n",
    "        print('A')\n",
    "except Exception as e:\n",
    "    print('Bad score.', e)"
   ],
   "metadata": {
    "collapsed": false,
    "pycharm": {
     "name": "#%%\n"
    }
   }
  }
 ],
 "metadata": {
  "kernelspec": {
   "display_name": "Python 3",
   "language": "python",
   "name": "python3"
  },
  "language_info": {
   "codemirror_mode": {
    "name": "ipython",
    "version": 2
   },
   "file_extension": ".py",
   "mimetype": "text/x-python",
   "name": "python",
   "nbconvert_exporter": "python",
   "pygments_lexer": "ipython2",
   "version": "2.7.6"
  }
 },
 "nbformat": 4,
 "nbformat_minor": 0
}