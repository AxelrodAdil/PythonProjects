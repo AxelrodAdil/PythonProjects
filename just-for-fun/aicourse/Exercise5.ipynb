{
 "cells": [
  {
   "cell_type": "code",
   "execution_count": 7,
   "metadata": {
    "collapsed": true,
    "pycharm": {
     "name": "#%%\n"
    }
   },
   "outputs": [
    {
     "name": "stdout",
     "output_type": "stream",
     "text": [
      "Enter a number: \n",
      "Enter a number: \n",
      "Enter a number: \n",
      "Enter a number: \n",
      "Invalid input. \n",
      "Enter a number: \n",
      "[5, 25, 90]\n",
      "40\n",
      "3\n",
      "120\n",
      "90\n",
      "5\n"
     ]
    },
    {
     "ename": "SystemExit",
     "evalue": "",
     "output_type": "error",
     "traceback": [
      "An exception has occurred, use %tb to see the full traceback.\n",
      "\u001B[0;31mSystemExit\u001B[0m\n"
     ]
    }
   ],
   "source": [
    "import sys\n",
    "import statistics\n",
    "\n",
    "def main():\n",
    "    my_list = []\n",
    "    while True:\n",
    "        print('Enter a number: ')\n",
    "        try:\n",
    "            input_variable = input()\n",
    "            if input_variable == 'done':\n",
    "                my_list = list(map(int, my_list))\n",
    "                print(my_list)\n",
    "                print(statistics.mean(my_list))\n",
    "                print(len(my_list))\n",
    "                print(sum(my_list))\n",
    "                print(max(my_list))\n",
    "                print(min(my_list))\n",
    "                sys.exit()\n",
    "            elif input_variable.isdigit():\n",
    "                my_list.append(input_variable)\n",
    "            else:\n",
    "                raise Exception\n",
    "        except Exception as e:\n",
    "            print('Invalid input.', e)\n",
    "\n",
    "\n",
    "if __name__ == '__main__':\n",
    "    main()"
   ]
  },
  {
   "cell_type": "code",
   "execution_count": null,
   "outputs": [],
   "source": [],
   "metadata": {
    "collapsed": false,
    "pycharm": {
     "name": "#%%\n"
    }
   }
  }
 ],
 "metadata": {
  "kernelspec": {
   "display_name": "Python 3",
   "language": "python",
   "name": "python3"
  },
  "language_info": {
   "codemirror_mode": {
    "name": "ipython",
    "version": 2
   },
   "file_extension": ".py",
   "mimetype": "text/x-python",
   "name": "python",
   "nbconvert_exporter": "python",
   "pygments_lexer": "ipython2",
   "version": "2.7.6"
  }
 },
 "nbformat": 4,
 "nbformat_minor": 0
}