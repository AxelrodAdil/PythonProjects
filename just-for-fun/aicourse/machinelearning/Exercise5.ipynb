{
 "cells": [
  {
   "cell_type": "code",
   "execution_count": 1,
   "metadata": {
    "collapsed": true
   },
   "outputs": [
    {
     "name": "stdout",
     "output_type": "stream",
     "text": [
      "Enter a number: \n",
      "Enter a number: \n",
      "Enter a number: \n",
      "Enter a number: \n",
      "Invalid input. \n",
      "Enter a number: \n",
      "[2, 25, 47]\n",
      "24.666666666666668\n",
      "3\n",
      "74\n",
      "47\n",
      "2\n"
     ]
    },
    {
     "ename": "SystemExit",
     "evalue": "",
     "output_type": "error",
     "traceback": [
      "An exception has occurred, use %tb to see the full traceback.\n",
      "\u001B[0;31mSystemExit\u001B[0m\n"
     ]
    },
    {
     "name": "stderr",
     "output_type": "stream",
     "text": [
      "/home/adil/PycharmProjects/PythonProjects/venv/lib/python3.8/site-packages/IPython/core/interactiveshell.py:3386: UserWarning: To exit: use 'exit', 'quit', or Ctrl-D.\n",
      "  warn(\"To exit: use 'exit', 'quit', or Ctrl-D.\", stacklevel=1)\n"
     ]
    }
   ],
   "source": [
    "import sys\n",
    "import statistics\n",
    "\n",
    "def main():\n",
    "    my_list = []\n",
    "    while True:\n",
    "        print('Enter a number: ')\n",
    "        try:\n",
    "            input_variable = input()\n",
    "            if input_variable == 'done':\n",
    "                my_list = list(map(int, my_list))\n",
    "                print(my_list)\n",
    "                print(statistics.mean(my_list))\n",
    "                print(len(my_list))\n",
    "                print(sum(my_list))\n",
    "                print(max(my_list))\n",
    "                print(min(my_list))\n",
    "                sys.exit()\n",
    "            elif input_variable.isdigit():\n",
    "                my_list.append(input_variable)\n",
    "            else:\n",
    "                raise Exception\n",
    "        except Exception as e:\n",
    "            print('Invalid input.', e)\n",
    "\n",
    "\n",
    "if __name__ == '__main__':\n",
    "    main()"
   ]
  }
 ],
 "metadata": {
  "kernelspec": {
   "display_name": "Python 3",
   "language": "python",
   "name": "python3"
  },
  "language_info": {
   "codemirror_mode": {
    "name": "ipython",
    "version": 2
   },
   "file_extension": ".py",
   "mimetype": "text/x-python",
   "name": "python",
   "nbconvert_exporter": "python",
   "pygments_lexer": "ipython2",
   "version": "2.7.6"
  }
 },
 "nbformat": 4,
 "nbformat_minor": 0
}
