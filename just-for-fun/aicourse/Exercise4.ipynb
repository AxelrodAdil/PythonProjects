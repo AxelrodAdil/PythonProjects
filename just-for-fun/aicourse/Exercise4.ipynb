{
 "cells": [
  {
   "cell_type": "code",
   "execution_count": 2,
   "metadata": {
    "collapsed": true
   },
   "outputs": [
    {
     "name": "stdout",
     "output_type": "stream",
     "text": [
      "525.0\n"
     ]
    }
   ],
   "source": [
    "def over_time(hours, rate):\n",
    "    base_hours = 40\n",
    "    ans = hours * rate\n",
    "    if base_hours < hours:\n",
    "        ans += (hours-base_hours)*(rate*1.5)\n",
    "    print(ans)\n",
    "\n",
    "\n",
    "def main():\n",
    "    hours = int(input())\n",
    "    rate = int(input())\n",
    "    over_time(hours, rate)\n",
    "\n",
    "\n",
    "if __name__ == '__main__':\n",
    "    main()"
   ]
  },
  {
   "cell_type": "code",
   "execution_count": 4,
   "outputs": [
    {
     "name": "stdout",
     "output_type": "stream",
     "text": [
      "B\n"
     ]
    }
   ],
   "source": [
    "def get_grade(input_float):\n",
    "    try:\n",
    "        if input_float > 1.0:\n",
    "            raise Exception\n",
    "        if input_float < 0.6:\n",
    "            print('F')\n",
    "        elif 0.6 <= input_float < 0.7:\n",
    "            print('D')\n",
    "        elif 0.7 <= input_float < 0.8:\n",
    "            print('C')\n",
    "        elif 0.8 <= input_float < 0.9:\n",
    "            print('B')\n",
    "        else:\n",
    "            print('A')\n",
    "    except Exception as e:\n",
    "        print('Bad score.', e)\n",
    "\n",
    "def main():\n",
    "    input_float = float(input())\n",
    "    get_grade(input_float)\n",
    "\n",
    "\n",
    "if __name__ == '__main__':\n",
    "    main()"
   ],
   "metadata": {
    "collapsed": false
   }
  }
 ],
 "metadata": {
  "kernelspec": {
   "display_name": "Python 3",
   "language": "python",
   "name": "python3"
  },
  "language_info": {
   "codemirror_mode": {
    "name": "ipython",
    "version": 2
   },
   "file_extension": ".py",
   "mimetype": "text/x-python",
   "name": "python",
   "nbconvert_exporter": "python",
   "pygments_lexer": "ipython2",
   "version": "2.7.6"
  }
 },
 "nbformat": 4,
 "nbformat_minor": 0
}
