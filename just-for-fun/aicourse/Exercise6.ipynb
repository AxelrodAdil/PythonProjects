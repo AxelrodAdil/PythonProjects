{
 "cells": [
  {
   "cell_type": "code",
   "execution_count": 1,
   "metadata": {
    "collapsed": true,
    "pycharm": {
     "name": "#%%\n"
    }
   },
   "outputs": [
    {
     "name": "stdout",
     "output_type": "stream",
     "text": [
      "0.8475\n"
     ]
    }
   ],
   "source": [
    "our_string = 'X-DSPAM-Confidence:0.8475'\n",
    "new_string = our_string.split(\":\",1)[1]\n",
    "print(float(new_string))"
   ]
  },
  {
   "cell_type": "code",
   "execution_count": 13,
   "outputs": [
    {
     "name": "stdout",
     "output_type": "stream",
     "text": [
      "X-DSPAM-Confidence:0.8475\n",
      "8\n",
      "18\n"
     ]
    }
   ],
   "source": [
    "our_string = 'X-DSPAM-Confidence:0.8475'\n",
    "print(our_string.strip())\n",
    "print(our_string.find('Conf'))\n",
    "integer_to_string = our_string.find(':', 2, 20)\n",
    "print(integer_to_string)"
   ],
   "metadata": {
    "collapsed": false,
    "pycharm": {
     "name": "#%%\n"
    }
   }
  }
 ],
 "metadata": {
  "kernelspec": {
   "display_name": "Python 3",
   "language": "python",
   "name": "python3"
  },
  "language_info": {
   "codemirror_mode": {
    "name": "ipython",
    "version": 2
   },
   "file_extension": ".py",
   "mimetype": "text/x-python",
   "name": "python",
   "nbconvert_exporter": "python",
   "pygments_lexer": "ipython2",
   "version": "2.7.6"
  }
 },
 "nbformat": 4,
 "nbformat_minor": 0
}