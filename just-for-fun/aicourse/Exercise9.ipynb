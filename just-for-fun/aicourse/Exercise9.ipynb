{
 "cells": [
  {
   "cell_type": "code",
   "execution_count": 19,
   "metadata": {
    "collapsed": true
   },
   "outputs": [
    {
     "name": "stdout",
     "output_type": "stream",
     "text": [
      "{'one': 1, 'two': 2, 'three': 3}\n",
      "2\n",
      "[1, 2, 3]\n",
      "True\n",
      "----------------------\n",
      "{'b': 1, 'a': 3, 'n': 2}\n",
      "----------------------\n",
      "3\n"
     ]
    }
   ],
   "source": [
    "my_dict = {'one':1, 'two':2, 'three':3}\n",
    "print(my_dict)\n",
    "print(my_dict['two'])\n",
    "\n",
    "my_list = list(my_dict.values())\n",
    "print(my_list)\n",
    "print('three' in my_dict)\n",
    "\n",
    "print('----------------------')\n",
    "\n",
    "my_word = 'banana'\n",
    "d = dict()\n",
    "for c in my_word:\n",
    "    # if c not in d:\n",
    "    #     d[c] = 1\n",
    "    # else:\n",
    "    #     d[c] = d[c] + 1\n",
    "    d[c] = d.get(c, 0) + 1\n",
    "print(d)\n",
    "\n",
    "print('----------------------')\n",
    "\n",
    "print(d.get('a', 0))"
   ]
  },
  {
   "cell_type": "code",
   "execution_count": 24,
   "outputs": [
    {
     "name": "stdout",
     "output_type": "stream",
     "text": [
      "{'but': 1, 'soft': 1, 'what': 1, 'light': 1, 'through': 1, 'yonder': 1, 'window': 1, 'breaks': 1, 'it': 1, 'is': 3, 'the': 3, 'east': 1, 'and': 3, 'juliet': 1, 'sun': 2, 'arise': 1, 'fair': 1, 'kill': 1, 'envious': 1, 'moon': 1, 'who': 1, 'already': 1, 'sick': 1, 'pale': 1, 'with': 1, 'grief': 1}\n"
     ]
    }
   ],
   "source": [
    "import string\n",
    "\n",
    "file_name = input('Enter the file name: ')\n",
    "try:\n",
    "    file_hand = open(file_name)\n",
    "except Exception as e:\n",
    "    print('File cannot be opened:', file_name)\n",
    "    exit(e)\n",
    "\n",
    "counts = dict()\n",
    "for line in file_hand:\n",
    "    line = line.rstrip()\n",
    "    line = line.translate(line.maketrans('', '', string.punctuation))\n",
    "    line = line.lower()\n",
    "    words = line.split()\n",
    "    for word in words:\n",
    "        if word not in counts:\n",
    "            counts[word] = 1\n",
    "        else:\n",
    "            counts[word] += 1\n",
    "\n",
    "print(counts)"
   ],
   "metadata": {
    "collapsed": false
   }
  },
  {
   "cell_type": "code",
   "execution_count": 21,
   "outputs": [
    {
     "name": "stdout",
     "output_type": "stream",
     "text": [
      "{'Sat': 2, 'Jan': 2, '5': 2, '091416': 2}\n"
     ]
    }
   ],
   "source": [
    "def main():\n",
    "    input_file = open('example', 'r')\n",
    "    my_dict_input = dict()\n",
    "    for i_line in input_file:\n",
    "        i_line = i_line.translate(i_line.maketrans('','',string.punctuation))\n",
    "        if i_line.startswith('From'):\n",
    "            my_list_input = list(i_line.split(\" \")[2:][:-1])\n",
    "            for j in my_list_input:\n",
    "                my_dict_input[j] = my_dict_input.get(j,0) + 1\n",
    "    print(my_dict_input)\n",
    "\n",
    "\n",
    "if __name__ == \"__main__\":\n",
    "    main()"
   ],
   "metadata": {
    "collapsed": false
   }
  },
  {
   "cell_type": "code",
   "execution_count": 23,
   "outputs": [
    {
     "name": "stdout",
     "output_type": "stream",
     "text": [
      "{'stephen1.marquard@uct.ac.za': 1, 'stephen2.marquard@uct.ac.za': 1}\n"
     ]
    }
   ],
   "source": [
    "import string\n",
    "\n",
    "def main():\n",
    "    input_file = open('example', 'r')\n",
    "    my_dict_input = dict()\n",
    "    for i_line in input_file:\n",
    "        # i_line = i_line.translate(i_line.maketrans('','',string.punctuation))\n",
    "        if i_line.startswith('From'):\n",
    "            temp_string = i_line.split(\" \")[1]\n",
    "            my_dict_input[temp_string] = my_dict_input.get(temp_string,0) + 1\n",
    "    print(my_dict_input)\n",
    "\n",
    "\n",
    "if __name__ == \"__main__\":\n",
    "    main()"
   ],
   "metadata": {
    "collapsed": false
   }
  },
  {
   "cell_type": "code",
   "execution_count": 22,
   "outputs": [],
   "source": [],
   "metadata": {
    "collapsed": false
   }
  }
 ],
 "metadata": {
  "kernelspec": {
   "display_name": "Python 3",
   "language": "python",
   "name": "python3"
  },
  "language_info": {
   "codemirror_mode": {
    "name": "ipython",
    "version": 2
   },
   "file_extension": ".py",
   "mimetype": "text/x-python",
   "name": "python",
   "nbconvert_exporter": "python",
   "pygments_lexer": "ipython2",
   "version": "2.7.6"
  }
 },
 "nbformat": 4,
 "nbformat_minor": 0
}
